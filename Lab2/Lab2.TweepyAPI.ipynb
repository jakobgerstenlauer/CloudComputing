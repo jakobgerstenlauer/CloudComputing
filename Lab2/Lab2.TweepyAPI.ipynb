{
 "cells": [
  {
   "cell_type": "markdown",
   "metadata": {},
   "source": [
    "## Task 2.2: Getting Started with tweepy "
   ]
  },
  {
   "cell_type": "code",
   "execution_count": 1,
   "metadata": {
    "collapsed": false
   },
   "outputs": [
    {
     "name": "stdout",
     "output_type": "stream",
     "text": [
      "Name: Jakob Gerstenlauer\n",
      "Location: \n",
      "Friends: 0\n",
      "Created: 2017-04-25 12:10:28\n",
      "Description: \n"
     ]
    }
   ],
   "source": [
    "import tweepy\n",
    "from tweepy import OAuthHandler\n",
    "import json\n",
    "#import getpass\n",
    "\n",
    "#Alternative style of handing over the secret keys:\n",
    "#Call the python script directly with bash variables.\n",
    "#./Lab2.TweepyApi <consumer-key> <consumer-secret> <access-token> <access-secret>\n",
    "#Then you can retrieve the secret keys from the argument list.\n",
    "#consumer_key = sys.argv[0]\n",
    "#consumer_secret = sys.argv[1]\n",
    "#access_token = sys.argv[2]\n",
    "#access_secret = sys.argv[3]\n",
    "\n",
    "consumer_key = \"*****\"\n",
    "consumer_secret = \"******\"\n",
    "access_token = \"*********\"\n",
    "access_secret = \"*******\"\n",
    "\n",
    "auth = OAuthHandler(consumer_key, consumer_secret)\n",
    "auth.set_access_token(access_token, access_secret)\n",
    " \n",
    "api = tweepy.API(auth)\n",
    "\n",
    "user = api.me()\n",
    " \n",
    "print('Name: ' + user.name)\n",
    "print('Location: ' + user.location)\n",
    "print('Friends: ' + str(user.followers_count))\n",
    "print('Created: ' + str(user.created_at))\n",
    "print('Description: ' + str(user.description))"
   ]
  },
  {
   "cell_type": "markdown",
   "metadata": {},
   "source": [
    "## Task 2.2.3: Accessing Tweets  "
   ]
  },
  {
   "cell_type": "markdown",
   "metadata": {},
   "source": [
    "We can access the json response from the Twitter API via the status object. The status object has a `_json` attribute which contains the JSON content in dictionary form:"
   ]
  },
  {
   "cell_type": "code",
   "execution_count": 2,
   "metadata": {
    "collapsed": false
   },
   "outputs": [
    {
     "name": "stdout",
     "output_type": "stream",
     "text": [
      "{\n",
      "  \"contributors\": null, \n",
      "  \"truncated\": false, \n",
      "  \"text\": \"The Rest of the Iceberg - The Looming IP Implications of the Industrial Internet of Things https://t.co/8SXnhAsex4\", \n",
      "  \"is_quote_status\": false, \n",
      "  \"in_reply_to_status_id\": null, \n",
      "  \"id\": 869841122549485568, \n",
      "  \"favorite_count\": 3, \n",
      "  \"source\": \"<a href=\\\"http://www.hootsuite.com\\\" rel=\\\"nofollow\\\">Hootsuite</a>\", \n",
      "  \"retweeted\": false, \n",
      "  \"coordinates\": null, \n",
      "  \"entities\": {\n",
      "    \"symbols\": [], \n",
      "    \"user_mentions\": [], \n",
      "    \"hashtags\": [], \n",
      "    \"urls\": [\n",
      "      {\n",
      "        \"url\": \"https://t.co/8SXnhAsex4\", \n",
      "        \"indices\": [\n",
      "          91, \n",
      "          114\n",
      "        ], \n",
      "        \"expanded_url\": \"http://ow.ly/xQHY30bWCeo\", \n",
      "        \"display_url\": \"ow.ly/xQHY30bWCeo\"\n",
      "      }\n",
      "    ]\n",
      "  }, \n",
      "  \"in_reply_to_screen_name\": null, \n",
      "  \"in_reply_to_user_id\": null, \n",
      "  \"retweet_count\": 4, \n",
      "  \"id_str\": \"869841122549485568\", \n",
      "  \"favorited\": false, \n",
      "  \"user\": {\n",
      "    \"follow_request_sent\": false, \n",
      "    \"has_extended_profile\": false, \n",
      "    \"profile_use_background_image\": true, \n",
      "    \"default_profile_image\": false, \n",
      "    \"id\": 14174897, \n",
      "    \"profile_background_image_url_https\": \"https://pbs.twimg.com/profile_background_images/33516583/water10x.gif\", \n",
      "    \"verified\": false, \n",
      "    \"translator_type\": \"none\", \n",
      "    \"profile_text_color\": \"3E4415\", \n",
      "    \"profile_image_url_https\": \"https://pbs.twimg.com/profile_images/823984252035309568/pPt7JWhh_normal.jpg\", \n",
      "    \"profile_sidebar_fill_color\": \"CAD9D8\", \n",
      "    \"entities\": {\n",
      "      \"url\": {\n",
      "        \"urls\": [\n",
      "          {\n",
      "            \"url\": \"http://t.co/43tj0Ez1jT\", \n",
      "            \"indices\": [\n",
      "              0, \n",
      "              22\n",
      "            ], \n",
      "            \"expanded_url\": \"http://www.datasciencecentral.com/profiles/blogs/check-out-our-dsc-newsletter\", \n",
      "            \"display_url\": \"datasciencecentral.com/profiles/blogs\\u2026\"\n",
      "          }\n",
      "        ]\n",
      "      }, \n",
      "      \"description\": {\n",
      "        \"urls\": []\n",
      "      }\n",
      "    }, \n",
      "    \"followers_count\": 161596, \n",
      "    \"profile_sidebar_border_color\": \"829D5E\", \n",
      "    \"id_str\": \"14174897\", \n",
      "    \"profile_background_color\": \"352726\", \n",
      "    \"listed_count\": 5966, \n",
      "    \"is_translation_enabled\": false, \n",
      "    \"utc_offset\": -25200, \n",
      "    \"statuses_count\": 95723, \n",
      "    \"description\": \"Co-founded by Vincent Granville and part of the DSC community, our  focus is on data science, ML, AI, deep learning, dataviz, Hadoop, IoT, and BI.\", \n",
      "    \"friends_count\": 4380, \n",
      "    \"location\": \"Seattle, WA\", \n",
      "    \"profile_link_color\": \"080808\", \n",
      "    \"profile_image_url\": \"http://pbs.twimg.com/profile_images/823984252035309568/pPt7JWhh_normal.jpg\", \n",
      "    \"following\": true, \n",
      "    \"geo_enabled\": false, \n",
      "    \"profile_banner_url\": \"https://pbs.twimg.com/profile_banners/14174897/1488560280\", \n",
      "    \"profile_background_image_url\": \"http://pbs.twimg.com/profile_background_images/33516583/water10x.gif\", \n",
      "    \"screen_name\": \"analyticbridge\", \n",
      "    \"lang\": \"en\", \n",
      "    \"profile_background_tile\": true, \n",
      "    \"favourites_count\": 5942, \n",
      "    \"name\": \"Data Science Central\", \n",
      "    \"notifications\": false, \n",
      "    \"url\": \"http://t.co/43tj0Ez1jT\", \n",
      "    \"created_at\": \"Wed Mar 19 05:26:29 +0000 2008\", \n",
      "    \"contributors_enabled\": false, \n",
      "    \"time_zone\": \"Pacific Time (US & Canada)\", \n",
      "    \"protected\": false, \n",
      "    \"default_profile\": false, \n",
      "    \"is_translator\": false\n",
      "  }, \n",
      "  \"geo\": null, \n",
      "  \"in_reply_to_user_id_str\": null, \n",
      "  \"possibly_sensitive\": false, \n",
      "  \"possibly_sensitive_appealable\": false, \n",
      "  \"lang\": \"en\", \n",
      "  \"created_at\": \"Wed May 31 09:00:59 +0000 2017\", \n",
      "  \"in_reply_to_status_id_str\": null, \n",
      "  \"place\": null\n",
      "}\n"
     ]
    }
   ],
   "source": [
    "for status in tweepy.Cursor(api.home_timeline).items(1):\n",
    "    print(json.dumps(status._json, indent=2))"
   ]
  },
  {
   "cell_type": "markdown",
   "metadata": {},
   "source": [
    "How to access the list of 10 of our friends:"
   ]
  },
  {
   "cell_type": "code",
   "execution_count": 3,
   "metadata": {
    "collapsed": false
   },
   "outputs": [
    {
     "name": "stdout",
     "output_type": "stream",
     "text": [
      "{\n",
      "  \"follow_request_sent\": false, \n",
      "  \"has_extended_profile\": false, \n",
      "  \"profile_use_background_image\": true, \n",
      "  \"live_following\": false, \n",
      "  \"default_profile_image\": false, \n",
      "  \"id\": 14174897, \n",
      "  \"profile_background_image_url_https\": \"https://pbs.twimg.com/profile_background_images/33516583/water10x.gif\", \n",
      "  \"translator_type\": \"none\", \n",
      "  \"verified\": false, \n",
      "  \"blocked_by\": false, \n",
      "  \"profile_text_color\": \"3E4415\", \n",
      "  \"muting\": false, \n",
      "  \"profile_image_url_https\": \"https://pbs.twimg.com/profile_images/823984252035309568/pPt7JWhh_normal.jpg\", \n",
      "  \"profile_sidebar_fill_color\": \"CAD9D8\", \n",
      "  \"entities\": {\n",
      "    \"url\": {\n",
      "      \"urls\": [\n",
      "        {\n",
      "          \"url\": \"http://t.co/43tj0Ez1jT\", \n",
      "          \"indices\": [\n",
      "            0, \n",
      "            22\n",
      "          ], \n",
      "          \"expanded_url\": \"http://www.datasciencecentral.com/profiles/blogs/check-out-our-dsc-newsletter\", \n",
      "          \"display_url\": \"datasciencecentral.com/profiles/blogs\\u2026\"\n",
      "        }\n",
      "      ]\n",
      "    }, \n",
      "    \"description\": {\n",
      "      \"urls\": []\n",
      "    }\n",
      "  }, \n",
      "  \"followers_count\": 161597, \n",
      "  \"profile_sidebar_border_color\": \"829D5E\", \n",
      "  \"id_str\": \"14174897\", \n",
      "  \"profile_background_color\": \"352726\", \n",
      "  \"listed_count\": 5966, \n",
      "  \"status\": {\n",
      "    \"contributors\": null, \n",
      "    \"truncated\": false, \n",
      "    \"text\": \"The 3Vs that define Big Data https://t.co/bZBDgH5DoF\", \n",
      "    \"is_quote_status\": false, \n",
      "    \"in_reply_to_status_id\": null, \n",
      "    \"id\": 869856206231306240, \n",
      "    \"favorite_count\": 0, \n",
      "    \"source\": \"<a href=\\\"http://www.hootsuite.com\\\" rel=\\\"nofollow\\\">Hootsuite</a>\", \n",
      "    \"retweeted\": false, \n",
      "    \"coordinates\": null, \n",
      "    \"entities\": {\n",
      "      \"symbols\": [], \n",
      "      \"user_mentions\": [], \n",
      "      \"hashtags\": [], \n",
      "      \"urls\": [\n",
      "        {\n",
      "          \"url\": \"https://t.co/bZBDgH5DoF\", \n",
      "          \"indices\": [\n",
      "            29, \n",
      "            52\n",
      "          ], \n",
      "          \"expanded_url\": \"http://ow.ly/LK1130bWCep\", \n",
      "          \"display_url\": \"ow.ly/LK1130bWCep\"\n",
      "        }\n",
      "      ]\n",
      "    }, \n",
      "    \"in_reply_to_screen_name\": null, \n",
      "    \"in_reply_to_user_id\": null, \n",
      "    \"retweet_count\": 0, \n",
      "    \"id_str\": \"869856206231306240\", \n",
      "    \"favorited\": false, \n",
      "    \"geo\": null, \n",
      "    \"in_reply_to_user_id_str\": null, \n",
      "    \"possibly_sensitive\": false, \n",
      "    \"lang\": \"en\", \n",
      "    \"created_at\": \"Wed May 31 10:00:55 +0000 2017\", \n",
      "    \"in_reply_to_status_id_str\": null, \n",
      "    \"place\": null\n",
      "  }, \n",
      "  \"is_translation_enabled\": false, \n",
      "  \"utc_offset\": -25200, \n",
      "  \"statuses_count\": 95724, \n",
      "  \"description\": \"Co-founded by Vincent Granville and part of the DSC community, our  focus is on data science, ML, AI, deep learning, dataviz, Hadoop, IoT, and BI.\", \n",
      "  \"friends_count\": 4380, \n",
      "  \"location\": \"Seattle, WA\", \n",
      "  \"profile_link_color\": \"080808\", \n",
      "  \"profile_image_url\": \"http://pbs.twimg.com/profile_images/823984252035309568/pPt7JWhh_normal.jpg\", \n",
      "  \"following\": true, \n",
      "  \"geo_enabled\": false, \n",
      "  \"profile_banner_url\": \"https://pbs.twimg.com/profile_banners/14174897/1488560280\", \n",
      "  \"blocking\": false, \n",
      "  \"profile_background_image_url\": \"http://pbs.twimg.com/profile_background_images/33516583/water10x.gif\", \n",
      "  \"screen_name\": \"analyticbridge\", \n",
      "  \"lang\": \"en\", \n",
      "  \"profile_background_tile\": true, \n",
      "  \"favourites_count\": 5942, \n",
      "  \"name\": \"Data Science Central\", \n",
      "  \"notifications\": false, \n",
      "  \"url\": \"http://t.co/43tj0Ez1jT\", \n",
      "  \"created_at\": \"Wed Mar 19 05:26:29 +0000 2008\", \n",
      "  \"contributors_enabled\": false, \n",
      "  \"time_zone\": \"Pacific Time (US & Canada)\", \n",
      "  \"protected\": false, \n",
      "  \"default_profile\": false, \n",
      "  \"is_translator\": false\n",
      "}\n"
     ]
    }
   ],
   "source": [
    "for friend in tweepy.Cursor(api.friends).items(1):\n",
    "    print(json.dumps(friend._json, indent=2))"
   ]
  },
  {
   "cell_type": "markdown",
   "metadata": {},
   "source": [
    "How to get a list of my own tweets (I don't have tweets):"
   ]
  },
  {
   "cell_type": "code",
   "execution_count": 4,
   "metadata": {
    "collapsed": true
   },
   "outputs": [],
   "source": [
    "for tweet in tweepy.Cursor(api.user_timeline).items(1):\n",
    "    print(json.dumps(tweet._json, indent=2))"
   ]
  },
  {
   "cell_type": "markdown",
   "metadata": {},
   "source": [
    "## Task 2.3: Tweet pre-processing"
   ]
  },
  {
   "cell_type": "code",
   "execution_count": 5,
   "metadata": {
    "collapsed": false
   },
   "outputs": [
    {
     "name": "stdout",
     "output_type": "stream",
     "text": [
      "['RT', '@', 'JordiTorresBCN', ':', 'just', 'an', 'example', '!', ':', 'D', 'http', ':', '//JordiTorres.Barcelona', '#', 'masterMEI']\n"
     ]
    }
   ],
   "source": [
    "from nltk.tokenize import word_tokenize\n",
    "\n",
    "tweet = 'RT @JordiTorresBCN: just an example! :D http://JordiTorres.Barcelona #masterMEI'\n",
    "\n",
    "print(word_tokenize(tweet))"
   ]
  },
  {
   "cell_type": "code",
   "execution_count": 6,
   "metadata": {
    "collapsed": false
   },
   "outputs": [
    {
     "name": "stdout",
     "output_type": "stream",
     "text": [
      "['RT', '@JordiTorresBCN', ':', 'just', 'an', 'example', '!', ':D', 'http://JordiTorres.Barcelona', '#masterMEI']\n"
     ]
    }
   ],
   "source": [
    "import re\n",
    " \n",
    "emoticons_str = r\"\"\"\n",
    "    (?:\n",
    "        [:=;] # Eyes\n",
    "        [oO\\-]? # Nose (optional)\n",
    "        [D\\)\\]\\(\\]/\\\\OpP] # Mouth\n",
    "    )\"\"\"\n",
    " \n",
    "regex_str = [\n",
    "    emoticons_str,\n",
    "    r'<[^>]+>', # HTML tags\n",
    "    r'(?:@[\\w_]+)', # @-mentions\n",
    "    r\"(?:\\#+[\\w_]+[\\w\\'_\\-]*[\\w_]+)\", # hash-tags\n",
    "    r'http[s]?://(?:[a-z]|[0-9]|[$-_@.&+]|[!*\\(\\),]|(?:%[0-9a-f][0-9a-f]))+', # URLs\n",
    " \n",
    "    r'(?:(?:\\d+,?)+(?:\\.?\\d+)?)', # numbers\n",
    "    r\"(?:[a-z][a-z'\\-_]+[a-z])\", # words with - and '\n",
    "    r'(?:[\\w_]+)', # other words\n",
    "    r'(?:\\S)' # anything else\n",
    "]\n",
    "    \n",
    "tokens_re = re.compile(r'('+'|'.join(regex_str)+')', re.VERBOSE | re.IGNORECASE)\n",
    "emoticon_re = re.compile(r'^'+emoticons_str+'$', re.VERBOSE | re.IGNORECASE)\n",
    " \n",
    "def tokenize(s):\n",
    "    return tokens_re.findall(s)\n",
    " \n",
    "def preprocess(s, lowercase=False):\n",
    "    tokens = tokenize(s)\n",
    "    if lowercase:\n",
    "        tokens = [token if emoticon_re.search(token) else token.lower() for token in tokens]\n",
    "    return tokens\n",
    " \n",
    "tweet = 'RT @JordiTorresBCN: just an example! :D http://JordiTorres.Barcelona #masterMEI'\n",
    "print(preprocess(tweet))"
   ]
  },
  {
   "cell_type": "markdown",
   "metadata": {},
   "source": [
    "## Conclusion:\n",
    "Now the moticon `:D`, the hash-tag `@JordiTorresBCN`, and the URL are preserved as tokens.\n"
   ]
  }
 ],
 "metadata": {
  "kernelspec": {
   "display_name": "Python 2",
   "language": "python",
   "name": "python2"
  },
  "language_info": {
   "codemirror_mode": {
    "name": "ipython",
    "version": 2
   },
   "file_extension": ".py",
   "mimetype": "text/x-python",
   "name": "python",
   "nbconvert_exporter": "python",
   "pygments_lexer": "ipython2",
   "version": "2.7.13"
  }
 },
 "nbformat": 4,
 "nbformat_minor": 2
}
