{
 "cells": [
  {
   "cell_type": "code",
   "execution_count": null,
   "metadata": {
    "collapsed": true
   },
   "outputs": [],
   "source": [
    "import tweepy\n",
    "from tweepy import OAuthHandler\n",
    "import json\n",
    "#import getpass\n",
    "\n",
    "#Alternative style of handing over the secret keys:\n",
    "#Call the python script directly with bash variables.\n",
    "#./Lab2.TweepyApi <consumer-key> <consumer-secret> <access-token> <access-secret>\n",
    "#Then you can retrieve the secret keys from the argument list.\n",
    "#consumer_key = sys.argv[0]\n",
    "#consumer_secret = sys.argv[1]\n",
    "#access_token = sys.argv[2]\n",
    "#access_secret = sys.argv[3]\n",
    "\n",
    "consumer_key = str(raw_input(\"YOUR-CONSUMER-KEY? \"))\n",
    "consumer_secret = str(raw_input('YOUR-CONSUMER-SECRET '))\n",
    "access_token = str(raw_input('YOUR-ACCESS-TOKEN '))\n",
    "access_secret = str(raw_input('YOUR-ACCESS-SECRET '))\n",
    "\n",
    "auth = OAuthHandler(consumer_key, consumer_secret)\n",
    "auth.set_access_token(access_token, access_secret)\n",
    " \n",
    "api = tweepy.API(auth)\n",
    "\n",
    "user = api.me()\n",
    " \n",
    "print('Name: ' + user.name)\n",
    "print('Location: ' + user.location)\n",
    "print('Friends: ' + str(user.followers_count))\n",
    "print('Created: ' + str(user.created_at))\n",
    "print('Description: ' + str(user.description))\n"
   ]
  }
 ],
 "metadata": {
  "kernelspec": {
   "display_name": "Python 2",
   "language": "python",
   "name": "python2"
  },
  "language_info": {
   "codemirror_mode": {
    "name": "ipython",
    "version": 2
   },
   "file_extension": ".py",
   "mimetype": "text/x-python",
   "name": "python",
   "nbconvert_exporter": "python",
   "pygments_lexer": "ipython2",
   "version": "2.7.13"
  }
 },
 "nbformat": 4,
 "nbformat_minor": 2
}
