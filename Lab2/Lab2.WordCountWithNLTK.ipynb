{
 "cells": [
  {
   "cell_type": "code",
   "execution_count": 6,
   "metadata": {
    "collapsed": false
   },
   "outputs": [
    {
     "name": "stdout",
     "output_type": "stream",
     "text": [
      "This program will count all words and show you only the n most common words.\n",
      "Which ascii file should be processed?  test.txt\n",
      "Up to which rank n should the most common words be displayed?  2\n",
      "[('safmmo', 1), ('sdakmfm', 1)]\n"
     ]
    }
   ],
   "source": [
    "import nltk\n",
    "import string\n",
    "from collections import Counter\n",
    "\n",
    "def get_tokens(fileName):\n",
    "\twith open(fileName, 'r') as tf:\n",
    "    \t\ttext = tf.read()\n",
    "    \t\ttokens = nltk.word_tokenize(text)\n",
    "    \t\treturn tokens\n",
    "\n",
    "print (\"This program will count all words and show you only the n most common words.\")\n",
    "fileName = raw_input(\"Which ascii file should be processed?  \")\n",
    "n = int(raw_input(\"Up to which rank n should the most common words be displayed?  \"))\n",
    "tokens = get_tokens(fileName)\n",
    "count = Counter(tokens)\n",
    "print count.most_common(n)"
   ]
  },
  {
   "cell_type": "code",
   "execution_count": null,
   "metadata": {
    "collapsed": true
   },
   "outputs": [],
   "source": []
  }
 ],
 "metadata": {
  "kernelspec": {
   "display_name": "Python 2",
   "language": "python",
   "name": "python2"
  },
  "language_info": {
   "codemirror_mode": {
    "name": "ipython",
    "version": 2
   },
   "file_extension": ".py",
   "mimetype": "text/x-python",
   "name": "python",
   "nbconvert_exporter": "python",
   "pygments_lexer": "ipython2",
   "version": "2.7.13"
  }
 },
 "nbformat": 4,
 "nbformat_minor": 2
}
