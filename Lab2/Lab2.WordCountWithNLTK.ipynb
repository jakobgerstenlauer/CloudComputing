{
 "cells": [
  {
   "cell_type": "markdown",
   "metadata": {},
   "source": [
    "## Task 2.1.1: Word Count 1\n",
    "Here I read in a text file, tokenize it, and count all tokens. \n",
    "Then, the *n* most common tokens are displayed."
   ]
  },
  {
   "cell_type": "code",
   "execution_count": 21,
   "metadata": {
    "collapsed": false
   },
   "outputs": [
    {
     "name": "stdout",
     "output_type": "stream",
     "text": [
      "This program will count all words and show you only the n most common words.\n",
      "Which ascii file should be processed?  test.txt\n",
      "Up to which rank n should the most common words be displayed?  5\n",
      "[(u'and', 4), (u'.', 4), (u'but', 3), (u'or', 3), (u'is', 2)]\n"
     ]
    }
   ],
   "source": [
    "import nltk\n",
    "import string\n",
    "import codecs\n",
    "import os.path\n",
    "from collections import Counter\n",
    "\n",
    "def get_tokens(fileName):\n",
    "    #Check first if the file exists\n",
    "    if(os.path.isfile(fileName)):\n",
    "        tf = codecs.open(fileName, mode='r', encoding='utf-8-sig')\n",
    "        text = tf.read()\n",
    "        tokens = nltk.word_tokenize(text)\n",
    "        return tokens\n",
    "\n",
    "print (\"This program will count all words and show you only the n most common words.\")\n",
    "fileName = raw_input(\"Which ascii file should be processed?  \")\n",
    "\n",
    "if(os.path.isfile(fileName)):\n",
    "    n = int(raw_input(\"Up to which rank n should the most common words be displayed?  \"))\n",
    "    tokens = get_tokens(fileName)\n",
    "    count = Counter(tokens)\n",
    "    print count.most_common(n)\n",
    "else:\n",
    "    print(\"Error: This file does not exist!\")"
   ]
  },
  {
   "cell_type": "markdown",
   "metadata": {},
   "source": [
    "## Task 2.1.2: Word Count 2"
   ]
  },
  {
   "cell_type": "code",
   "execution_count": 20,
   "metadata": {
    "collapsed": false
   },
   "outputs": [
    {
     "name": "stdout",
     "output_type": "stream",
     "text": [
      "This program will count all words and show you only the n most common words.\n",
      "Which ascii file should be processed?  test.txt\n",
      "Up to which rank n should the most common words be displayed?  2\n",
      "[('testtxt', 1)]\n",
      "The document contains 1 words in total.\n"
     ]
    }
   ],
   "source": [
    "def get_tokens(fileName):\n",
    "\twith open(fileName, 'r') as tf:\n",
    "            text = tf.read()\n",
    "            return get_tokens_without_punctuation(text)\n",
    "            \n",
    "def get_tokens_without_punctuation(text):\n",
    "    lowers = text.lower()\n",
    "    no_punctuation = lowers.translate(None, string.punctuation)\n",
    "    tokens = nltk.word_tokenize(no_punctuation)\n",
    "    return tokens\n",
    "\n",
    "print (\"This program will count all words and show you only the n most common words.\")\n",
    "fileName = raw_input(\"Which ascii file should be processed?  \")\n",
    "\n",
    "if(os.path.isfile(fileName)):\n",
    "    n = int(raw_input(\"Up to which rank n should the most common words be displayed?  \"))\n",
    "    tokens = get_tokens_without_punctuation(fileName)\n",
    "    count = Counter(tokens)\n",
    "    print count.most_common(n)\n",
    "    numWords = sum(count.values()) \n",
    "    print (\"The document contains \"+ str(numWords) +\" words in total.\")\n",
    "else:\n",
    "    print(\"Error: This file does not exist!\")\n",
    "    \n"
   ]
  },
  {
   "cell_type": "code",
   "execution_count": 13,
   "metadata": {
    "collapsed": false
   },
   "outputs": [
    {
     "name": "stdout",
     "output_type": "stream",
     "text": [
      "This program will count all words (except stop words) and show you only the n most common words.\n",
      "Which ascii file should be processed?  test.txt\n",
      "Up to which rank n should the most common words be displayed?  3\n",
      "[('car', 2), ('mama', 2), ('raining', 1)]\n",
      "The document contains 15 words in total.\n"
     ]
    }
   ],
   "source": [
    "import nltk\n",
    "from nltk.corpus import stopwords\n",
    "import string\n",
    "from collections import Counter\n",
    "\n",
    "def get_tokens(fileName):\n",
    "\twith open(fileName, 'r') as tf:\n",
    "            text = tf.read()\n",
    "            return get_tokens_without_punctuation(text)\n",
    "            \n",
    "def get_tokens_without_punctuation(text):\n",
    "    lowers = text.lower()\n",
    "    no_punctuation = lowers.translate(None, string.punctuation)\n",
    "    tokens = nltk.word_tokenize(no_punctuation)\n",
    "    return tokens\n",
    "\n",
    "print (\"This program will count all words (except stop words) and show you only the n most common words.\")\n",
    "fileName = raw_input(\"Which ascii file should be processed?  \")\n",
    "n = int(raw_input(\"Up to which rank n should the most common words be displayed?  \"))\n",
    "tokens = get_tokens(fileName)\n",
    "filtered = [w for w in tokens if not w in stopwords.words('english')]\n",
    "count = Counter(filtered)\n",
    "print count.most_common(n)\n",
    "#Task 2.1.2: Word Count 2\n",
    "numWords = sum(count.values()) \n",
    "print (\"The document contains \"+ str(numWords) +\" words in total.\")"
   ]
  },
  {
   "cell_type": "code",
   "execution_count": null,
   "metadata": {
    "collapsed": true
   },
   "outputs": [],
   "source": []
  }
 ],
 "metadata": {
  "kernelspec": {
   "display_name": "Python 2",
   "language": "python",
   "name": "python2"
  },
  "language_info": {
   "codemirror_mode": {
    "name": "ipython",
    "version": 2
   },
   "file_extension": ".py",
   "mimetype": "text/x-python",
   "name": "python",
   "nbconvert_exporter": "python",
   "pygments_lexer": "ipython2",
   "version": "2.7.13"
  }
 },
 "nbformat": 4,
 "nbformat_minor": 2
}
