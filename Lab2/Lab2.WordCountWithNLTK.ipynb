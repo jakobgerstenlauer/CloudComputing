{
 "cells": [
  {
   "cell_type": "code",
   "execution_count": 8,
   "metadata": {
    "collapsed": false
   },
   "outputs": [
    {
     "name": "stdout",
     "output_type": "stream",
     "text": [
      "This program will count all words and show you only the n most common words.\n",
      "Which ascii file should be processed?  test.txt\n",
      "Up to which rank n should the most common words be displayed?  5\n",
      "[('safmmo', 1), ('sdakmfm', 1), ('kmam', 1), ('sndqwlnido', 1), ('aammfo', 1)]\n",
      "The document contains 9 words in total.\n"
     ]
    }
   ],
   "source": [
    "import nltk\n",
    "import string\n",
    "from collections import Counter\n",
    "\n",
    "def get_tokens(fileName):\n",
    "\twith open(fileName, 'r') as tf:\n",
    "    \t\ttext = tf.read()\n",
    "    \t\ttokens = nltk.word_tokenize(text)\n",
    "    \t\treturn tokens\n",
    "\n",
    "print (\"This program will count all words and show you only the n most common words.\")\n",
    "fileName = raw_input(\"Which ascii file should be processed?  \")\n",
    "n = int(raw_input(\"Up to which rank n should the most common words be displayed?  \"))\n",
    "tokens = get_tokens(fileName)\n",
    "count = Counter(tokens)\n",
    "print count.most_common(n)\n",
    "#Task 2.1.2: Word Count 2\n",
    "numWords = sum(count.values()) \n",
    "print (\"The document contains \"+ str(numWords) +\" words in total.\")"
   ]
  },
  {
   "cell_type": "code",
   "execution_count": 12,
   "metadata": {
    "collapsed": false
   },
   "outputs": [
    {
     "name": "stdout",
     "output_type": "stream",
     "text": [
      "This program will count all words (except stop-words) and show you only the n most common words.\n",
      "Which ascii file should be processed?  test.txt\n",
      "Up to which rank n should the most common words be displayed?  2\n",
      "[('and', 5), ('but', 3)]\n",
      "The document contains 33 words in total.\n"
     ]
    }
   ],
   "source": [
    "import nltk\n",
    "import string\n",
    "from collections import Counter\n",
    "\n",
    "def get_tokens(fileName):\n",
    "\twith open(fileName, 'r') as tf:\n",
    "            text = tf.read()\n",
    "            return get_tokens_without_punctuation(text)\n",
    "            \n",
    "def get_tokens_without_punctuation(text):\n",
    "    lowers = text.lower()\n",
    "    no_punctuation = lowers.translate(None, string.punctuation)\n",
    "    tokens = nltk.word_tokenize(no_punctuation)\n",
    "    return tokens\n",
    "\n",
    "print (\"This program will count all words (except punctuation) and show you only the n most common words.\")\n",
    "fileName = raw_input(\"Which ascii file should be processed?  \")\n",
    "n = int(raw_input(\"Up to which rank n should the most common words be displayed?  \"))\n",
    "tokens = get_tokens(fileName)\n",
    "count = Counter(tokens)\n",
    "print count.most_common(n)\n",
    "#Task 2.1.2: Word Count 2\n",
    "numWords = sum(count.values()) \n",
    "print (\"The document contains \"+ str(numWords) +\" words in total.\")\n"
   ]
  },
  {
   "cell_type": "code",
   "execution_count": null,
   "metadata": {
    "collapsed": true
   },
   "outputs": [],
   "source": [
    "import nltk\n",
    "from nltk.corpus import stopwords\n",
    "import string\n",
    "from collections import Counter\n",
    "\n",
    "def get_tokens(fileName):\n",
    "\twith open(fileName, 'r') as tf:\n",
    "            text = tf.read()\n",
    "            return get_tokens_without_punctuation(text)\n",
    "            \n",
    "def get_tokens_without_punctuation(text):\n",
    "    lowers = text.lower()\n",
    "    no_punctuation = lowers.translate(None, string.punctuation)\n",
    "    tokens = nltk.word_tokenize(no_punctuation)\n",
    "    return tokens\n",
    "\n",
    "print (\"This program will count all words (except stop words) and show you only the n most common words.\")\n",
    "fileName = raw_input(\"Which ascii file should be processed?  \")\n",
    "n = int(raw_input(\"Up to which rank n should the most common words be displayed?  \"))\n",
    "tokens = get_tokens(fileName)\n",
    "filtered = [w for w in tokens if not w in stopwords.words('english')]\n",
    "count = Counter(filtered)\n",
    "print count.most_common(n)\n",
    "#Task 2.1.2: Word Count 2\n",
    "numWords = sum(count.values()) \n",
    "print (\"The document contains \"+ str(numWords) +\" words in total.\")"
   ]
  }
 ],
 "metadata": {
  "kernelspec": {
   "display_name": "Python 2",
   "language": "python",
   "name": "python2"
  },
  "language_info": {
   "codemirror_mode": {
    "name": "ipython",
    "version": 2
   },
   "file_extension": ".py",
   "mimetype": "text/x-python",
   "name": "python",
   "nbconvert_exporter": "python",
   "pygments_lexer": "ipython2",
   "version": "2.7.13"
  }
 },
 "nbformat": 4,
 "nbformat_minor": 2
}
