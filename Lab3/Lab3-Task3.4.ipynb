{
 "cells": [
  {
   "cell_type": "markdown",
   "metadata": {},
   "source": [
    "### Lab 3 - Task 3.4"
   ]
  },
  {
   "cell_type": "code",
   "execution_count": 1,
   "metadata": {
    "collapsed": true
   },
   "outputs": [],
   "source": [
    "import tweepy\n",
    "from tweepy import OAuthHandler\n",
    "\n",
    "consumer_key = ''\n",
    "consumer_secret = ''\n",
    "access_token = ''\n",
    "access_secret = ''\n",
    "\n",
    "auth = OAuthHandler(consumer_key, consumer_secret)\n",
    "auth.set_access_token(access_token, access_secret)\n",
    " \n",
    "api = tweepy.API(auth)\n"
   ]
  },
  {
   "cell_type": "code",
   "execution_count": 2,
   "metadata": {
    "collapsed": false
   },
   "outputs": [
    {
     "ename": "KeyboardInterrupt",
     "evalue": "",
     "output_type": "error",
     "traceback": [
      "\u001b[0;31m---------------------------------------------------------------------------\u001b[0m",
      "\u001b[0;31mKeyboardInterrupt\u001b[0m                         Traceback (most recent call last)",
      "\u001b[0;32m<ipython-input-2-b34bbc4cce13>\u001b[0m in \u001b[0;36m<module>\u001b[0;34m()\u001b[0m\n\u001b[1;32m     18\u001b[0m \u001b[0;34m\u001b[0m\u001b[0m\n\u001b[1;32m     19\u001b[0m \u001b[0mtwitter_stream\u001b[0m \u001b[0;34m=\u001b[0m \u001b[0mStream\u001b[0m\u001b[0;34m(\u001b[0m\u001b[0mauth\u001b[0m\u001b[0;34m,\u001b[0m \u001b[0mMyListener\u001b[0m\u001b[0;34m(\u001b[0m\u001b[0;34m)\u001b[0m\u001b[0;34m)\u001b[0m\u001b[0;34m\u001b[0m\u001b[0m\n\u001b[0;32m---> 20\u001b[0;31m \u001b[0mtwitter_stream\u001b[0m\u001b[0;34m.\u001b[0m\u001b[0mfilter\u001b[0m\u001b[0;34m(\u001b[0m\u001b[0mtrack\u001b[0m\u001b[0;34m=\u001b[0m\u001b[0;34m[\u001b[0m\u001b[0;34m'hacker'\u001b[0m\u001b[0;34m]\u001b[0m\u001b[0;34m)\u001b[0m\u001b[0;34m\u001b[0m\u001b[0m\n\u001b[0m",
      "\u001b[0;32m/Users/sunce/anaconda/lib/python2.7/site-packages/tweepy/streaming.pyc\u001b[0m in \u001b[0;36mfilter\u001b[0;34m(self, follow, track, async, locations, stall_warnings, languages, encoding, filter_level)\u001b[0m\n\u001b[1;32m    443\u001b[0m         \u001b[0mself\u001b[0m\u001b[0;34m.\u001b[0m\u001b[0msession\u001b[0m\u001b[0;34m.\u001b[0m\u001b[0mparams\u001b[0m \u001b[0;34m=\u001b[0m \u001b[0;34m{\u001b[0m\u001b[0;34m'delimited'\u001b[0m\u001b[0;34m:\u001b[0m \u001b[0;34m'length'\u001b[0m\u001b[0;34m}\u001b[0m\u001b[0;34m\u001b[0m\u001b[0m\n\u001b[1;32m    444\u001b[0m         \u001b[0mself\u001b[0m\u001b[0;34m.\u001b[0m\u001b[0mhost\u001b[0m \u001b[0;34m=\u001b[0m \u001b[0;34m'stream.twitter.com'\u001b[0m\u001b[0;34m\u001b[0m\u001b[0m\n\u001b[0;32m--> 445\u001b[0;31m         \u001b[0mself\u001b[0m\u001b[0;34m.\u001b[0m\u001b[0m_start\u001b[0m\u001b[0;34m(\u001b[0m\u001b[0masync\u001b[0m\u001b[0;34m)\u001b[0m\u001b[0;34m\u001b[0m\u001b[0m\n\u001b[0m\u001b[1;32m    446\u001b[0m \u001b[0;34m\u001b[0m\u001b[0m\n\u001b[1;32m    447\u001b[0m     def sitestream(self, follow, stall_warnings=False,\n",
      "\u001b[0;32m/Users/sunce/anaconda/lib/python2.7/site-packages/tweepy/streaming.pyc\u001b[0m in \u001b[0;36m_start\u001b[0;34m(self, async)\u001b[0m\n\u001b[1;32m    359\u001b[0m             \u001b[0mself\u001b[0m\u001b[0;34m.\u001b[0m\u001b[0m_thread\u001b[0m\u001b[0;34m.\u001b[0m\u001b[0mstart\u001b[0m\u001b[0;34m(\u001b[0m\u001b[0;34m)\u001b[0m\u001b[0;34m\u001b[0m\u001b[0m\n\u001b[1;32m    360\u001b[0m         \u001b[0;32melse\u001b[0m\u001b[0;34m:\u001b[0m\u001b[0;34m\u001b[0m\u001b[0m\n\u001b[0;32m--> 361\u001b[0;31m             \u001b[0mself\u001b[0m\u001b[0;34m.\u001b[0m\u001b[0m_run\u001b[0m\u001b[0;34m(\u001b[0m\u001b[0;34m)\u001b[0m\u001b[0;34m\u001b[0m\u001b[0m\n\u001b[0m\u001b[1;32m    362\u001b[0m \u001b[0;34m\u001b[0m\u001b[0m\n\u001b[1;32m    363\u001b[0m     \u001b[0;32mdef\u001b[0m \u001b[0mon_closed\u001b[0m\u001b[0;34m(\u001b[0m\u001b[0mself\u001b[0m\u001b[0;34m,\u001b[0m \u001b[0mresp\u001b[0m\u001b[0;34m)\u001b[0m\u001b[0;34m:\u001b[0m\u001b[0;34m\u001b[0m\u001b[0m\n",
      "\u001b[0;32m/Users/sunce/anaconda/lib/python2.7/site-packages/tweepy/streaming.pyc\u001b[0m in \u001b[0;36m_run\u001b[0;34m(self)\u001b[0m\n\u001b[1;32m    261\u001b[0m                     \u001b[0mself\u001b[0m\u001b[0;34m.\u001b[0m\u001b[0msnooze_time\u001b[0m \u001b[0;34m=\u001b[0m \u001b[0mself\u001b[0m\u001b[0;34m.\u001b[0m\u001b[0msnooze_time_step\u001b[0m\u001b[0;34m\u001b[0m\u001b[0m\n\u001b[1;32m    262\u001b[0m                     \u001b[0mself\u001b[0m\u001b[0;34m.\u001b[0m\u001b[0mlistener\u001b[0m\u001b[0;34m.\u001b[0m\u001b[0mon_connect\u001b[0m\u001b[0;34m(\u001b[0m\u001b[0;34m)\u001b[0m\u001b[0;34m\u001b[0m\u001b[0m\n\u001b[0;32m--> 263\u001b[0;31m                     \u001b[0mself\u001b[0m\u001b[0;34m.\u001b[0m\u001b[0m_read_loop\u001b[0m\u001b[0;34m(\u001b[0m\u001b[0mresp\u001b[0m\u001b[0;34m)\u001b[0m\u001b[0;34m\u001b[0m\u001b[0m\n\u001b[0m\u001b[1;32m    264\u001b[0m             \u001b[0;32mexcept\u001b[0m \u001b[0;34m(\u001b[0m\u001b[0mTimeout\u001b[0m\u001b[0;34m,\u001b[0m \u001b[0mssl\u001b[0m\u001b[0;34m.\u001b[0m\u001b[0mSSLError\u001b[0m\u001b[0;34m)\u001b[0m \u001b[0;32mas\u001b[0m \u001b[0mexc\u001b[0m\u001b[0;34m:\u001b[0m\u001b[0;34m\u001b[0m\u001b[0m\n\u001b[1;32m    265\u001b[0m                 \u001b[0;31m# This is still necessary, as a SSLError can actually be\u001b[0m\u001b[0;34m\u001b[0m\u001b[0;34m\u001b[0m\u001b[0m\n",
      "\u001b[0;32m/Users/sunce/anaconda/lib/python2.7/site-packages/tweepy/streaming.pyc\u001b[0m in \u001b[0;36m_read_loop\u001b[0;34m(self, resp)\u001b[0m\n\u001b[1;32m    311\u001b[0m             \u001b[0mlength\u001b[0m \u001b[0;34m=\u001b[0m \u001b[0;36m0\u001b[0m\u001b[0;34m\u001b[0m\u001b[0m\n\u001b[1;32m    312\u001b[0m             \u001b[0;32mwhile\u001b[0m \u001b[0;32mnot\u001b[0m \u001b[0mresp\u001b[0m\u001b[0;34m.\u001b[0m\u001b[0mraw\u001b[0m\u001b[0;34m.\u001b[0m\u001b[0mclosed\u001b[0m\u001b[0;34m:\u001b[0m\u001b[0;34m\u001b[0m\u001b[0m\n\u001b[0;32m--> 313\u001b[0;31m                 \u001b[0mline\u001b[0m \u001b[0;34m=\u001b[0m \u001b[0mbuf\u001b[0m\u001b[0;34m.\u001b[0m\u001b[0mread_line\u001b[0m\u001b[0;34m(\u001b[0m\u001b[0;34m)\u001b[0m\u001b[0;34m.\u001b[0m\u001b[0mstrip\u001b[0m\u001b[0;34m(\u001b[0m\u001b[0;34m)\u001b[0m\u001b[0;34m\u001b[0m\u001b[0m\n\u001b[0m\u001b[1;32m    314\u001b[0m                 \u001b[0;32mif\u001b[0m \u001b[0;32mnot\u001b[0m \u001b[0mline\u001b[0m\u001b[0;34m:\u001b[0m\u001b[0;34m\u001b[0m\u001b[0m\n\u001b[1;32m    315\u001b[0m                     \u001b[0mself\u001b[0m\u001b[0;34m.\u001b[0m\u001b[0mlistener\u001b[0m\u001b[0;34m.\u001b[0m\u001b[0mkeep_alive\u001b[0m\u001b[0;34m(\u001b[0m\u001b[0;34m)\u001b[0m  \u001b[0;31m# keep-alive new lines are expected\u001b[0m\u001b[0;34m\u001b[0m\u001b[0m\n",
      "\u001b[0;32m/Users/sunce/anaconda/lib/python2.7/site-packages/tweepy/streaming.pyc\u001b[0m in \u001b[0;36mread_line\u001b[0;34m(self, sep)\u001b[0m\n\u001b[1;32m    177\u001b[0m             \u001b[0;32melse\u001b[0m\u001b[0;34m:\u001b[0m\u001b[0;34m\u001b[0m\u001b[0m\n\u001b[1;32m    178\u001b[0m                 \u001b[0mstart\u001b[0m \u001b[0;34m=\u001b[0m \u001b[0mlen\u001b[0m\u001b[0;34m(\u001b[0m\u001b[0mself\u001b[0m\u001b[0;34m.\u001b[0m\u001b[0m_buffer\u001b[0m\u001b[0;34m)\u001b[0m\u001b[0;34m\u001b[0m\u001b[0m\n\u001b[0;32m--> 179\u001b[0;31m             \u001b[0mself\u001b[0m\u001b[0;34m.\u001b[0m\u001b[0m_buffer\u001b[0m \u001b[0;34m+=\u001b[0m \u001b[0mself\u001b[0m\u001b[0;34m.\u001b[0m\u001b[0m_stream\u001b[0m\u001b[0;34m.\u001b[0m\u001b[0mread\u001b[0m\u001b[0;34m(\u001b[0m\u001b[0mself\u001b[0m\u001b[0;34m.\u001b[0m\u001b[0m_chunk_size\u001b[0m\u001b[0;34m)\u001b[0m\u001b[0;34m\u001b[0m\u001b[0m\n\u001b[0m\u001b[1;32m    180\u001b[0m \u001b[0;34m\u001b[0m\u001b[0m\n\u001b[1;32m    181\u001b[0m     \u001b[0;32mdef\u001b[0m \u001b[0m_pop\u001b[0m\u001b[0;34m(\u001b[0m\u001b[0mself\u001b[0m\u001b[0;34m,\u001b[0m \u001b[0mlength\u001b[0m\u001b[0;34m)\u001b[0m\u001b[0;34m:\u001b[0m\u001b[0;34m\u001b[0m\u001b[0m\n",
      "\u001b[0;32m/Users/sunce/anaconda/lib/python2.7/site-packages/requests/packages/urllib3/response.pyc\u001b[0m in \u001b[0;36mread\u001b[0;34m(self, amt, decode_content, cache_content)\u001b[0m\n\u001b[1;32m    378\u001b[0m             \u001b[0;32melse\u001b[0m\u001b[0;34m:\u001b[0m\u001b[0;34m\u001b[0m\u001b[0m\n\u001b[1;32m    379\u001b[0m                 \u001b[0mcache_content\u001b[0m \u001b[0;34m=\u001b[0m \u001b[0mFalse\u001b[0m\u001b[0;34m\u001b[0m\u001b[0m\n\u001b[0;32m--> 380\u001b[0;31m                 \u001b[0mdata\u001b[0m \u001b[0;34m=\u001b[0m \u001b[0mself\u001b[0m\u001b[0;34m.\u001b[0m\u001b[0m_fp\u001b[0m\u001b[0;34m.\u001b[0m\u001b[0mread\u001b[0m\u001b[0;34m(\u001b[0m\u001b[0mamt\u001b[0m\u001b[0;34m)\u001b[0m\u001b[0;34m\u001b[0m\u001b[0m\n\u001b[0m\u001b[1;32m    381\u001b[0m                 \u001b[0;32mif\u001b[0m \u001b[0mamt\u001b[0m \u001b[0;34m!=\u001b[0m \u001b[0;36m0\u001b[0m \u001b[0;32mand\u001b[0m \u001b[0;32mnot\u001b[0m \u001b[0mdata\u001b[0m\u001b[0;34m:\u001b[0m  \u001b[0;31m# Platform-specific: Buggy versions of Python.\u001b[0m\u001b[0;34m\u001b[0m\u001b[0m\n\u001b[1;32m    382\u001b[0m                     \u001b[0;31m# Close the connection when no data is returned\u001b[0m\u001b[0;34m\u001b[0m\u001b[0;34m\u001b[0m\u001b[0m\n",
      "\u001b[0;32m/Users/sunce/anaconda/lib/python2.7/httplib.pyc\u001b[0m in \u001b[0;36mread\u001b[0;34m(self, amt)\u001b[0m\n\u001b[1;32m    571\u001b[0m \u001b[0;34m\u001b[0m\u001b[0m\n\u001b[1;32m    572\u001b[0m         \u001b[0;32mif\u001b[0m \u001b[0mself\u001b[0m\u001b[0;34m.\u001b[0m\u001b[0mchunked\u001b[0m\u001b[0;34m:\u001b[0m\u001b[0;34m\u001b[0m\u001b[0m\n\u001b[0;32m--> 573\u001b[0;31m             \u001b[0;32mreturn\u001b[0m \u001b[0mself\u001b[0m\u001b[0;34m.\u001b[0m\u001b[0m_read_chunked\u001b[0m\u001b[0;34m(\u001b[0m\u001b[0mamt\u001b[0m\u001b[0;34m)\u001b[0m\u001b[0;34m\u001b[0m\u001b[0m\n\u001b[0m\u001b[1;32m    574\u001b[0m \u001b[0;34m\u001b[0m\u001b[0m\n\u001b[1;32m    575\u001b[0m         \u001b[0;32mif\u001b[0m \u001b[0mamt\u001b[0m \u001b[0;32mis\u001b[0m \u001b[0mNone\u001b[0m\u001b[0;34m:\u001b[0m\u001b[0;34m\u001b[0m\u001b[0m\n",
      "\u001b[0;32m/Users/sunce/anaconda/lib/python2.7/httplib.pyc\u001b[0m in \u001b[0;36m_read_chunked\u001b[0;34m(self, amt)\u001b[0m\n\u001b[1;32m    613\u001b[0m         \u001b[0;32mwhile\u001b[0m \u001b[0mTrue\u001b[0m\u001b[0;34m:\u001b[0m\u001b[0;34m\u001b[0m\u001b[0m\n\u001b[1;32m    614\u001b[0m             \u001b[0;32mif\u001b[0m \u001b[0mchunk_left\u001b[0m \u001b[0;32mis\u001b[0m \u001b[0mNone\u001b[0m\u001b[0;34m:\u001b[0m\u001b[0;34m\u001b[0m\u001b[0m\n\u001b[0;32m--> 615\u001b[0;31m                 \u001b[0mline\u001b[0m \u001b[0;34m=\u001b[0m \u001b[0mself\u001b[0m\u001b[0;34m.\u001b[0m\u001b[0mfp\u001b[0m\u001b[0;34m.\u001b[0m\u001b[0mreadline\u001b[0m\u001b[0;34m(\u001b[0m\u001b[0m_MAXLINE\u001b[0m \u001b[0;34m+\u001b[0m \u001b[0;36m1\u001b[0m\u001b[0;34m)\u001b[0m\u001b[0;34m\u001b[0m\u001b[0m\n\u001b[0m\u001b[1;32m    616\u001b[0m                 \u001b[0;32mif\u001b[0m \u001b[0mlen\u001b[0m\u001b[0;34m(\u001b[0m\u001b[0mline\u001b[0m\u001b[0;34m)\u001b[0m \u001b[0;34m>\u001b[0m \u001b[0m_MAXLINE\u001b[0m\u001b[0;34m:\u001b[0m\u001b[0;34m\u001b[0m\u001b[0m\n\u001b[1;32m    617\u001b[0m                     \u001b[0;32mraise\u001b[0m \u001b[0mLineTooLong\u001b[0m\u001b[0;34m(\u001b[0m\u001b[0;34m\"chunk size\"\u001b[0m\u001b[0;34m)\u001b[0m\u001b[0;34m\u001b[0m\u001b[0m\n",
      "\u001b[0;32m/Users/sunce/anaconda/lib/python2.7/socket.pyc\u001b[0m in \u001b[0;36mreadline\u001b[0;34m(self, size)\u001b[0m\n\u001b[1;32m    478\u001b[0m             \u001b[0;32mwhile\u001b[0m \u001b[0mTrue\u001b[0m\u001b[0;34m:\u001b[0m\u001b[0;34m\u001b[0m\u001b[0m\n\u001b[1;32m    479\u001b[0m                 \u001b[0;32mtry\u001b[0m\u001b[0;34m:\u001b[0m\u001b[0;34m\u001b[0m\u001b[0m\n\u001b[0;32m--> 480\u001b[0;31m                     \u001b[0mdata\u001b[0m \u001b[0;34m=\u001b[0m \u001b[0mself\u001b[0m\u001b[0;34m.\u001b[0m\u001b[0m_sock\u001b[0m\u001b[0;34m.\u001b[0m\u001b[0mrecv\u001b[0m\u001b[0;34m(\u001b[0m\u001b[0mself\u001b[0m\u001b[0;34m.\u001b[0m\u001b[0m_rbufsize\u001b[0m\u001b[0;34m)\u001b[0m\u001b[0;34m\u001b[0m\u001b[0m\n\u001b[0m\u001b[1;32m    481\u001b[0m                 \u001b[0;32mexcept\u001b[0m \u001b[0merror\u001b[0m\u001b[0;34m,\u001b[0m \u001b[0me\u001b[0m\u001b[0;34m:\u001b[0m\u001b[0;34m\u001b[0m\u001b[0m\n\u001b[1;32m    482\u001b[0m                     \u001b[0;32mif\u001b[0m \u001b[0me\u001b[0m\u001b[0;34m.\u001b[0m\u001b[0margs\u001b[0m\u001b[0;34m[\u001b[0m\u001b[0;36m0\u001b[0m\u001b[0;34m]\u001b[0m \u001b[0;34m==\u001b[0m \u001b[0mEINTR\u001b[0m\u001b[0;34m:\u001b[0m\u001b[0;34m\u001b[0m\u001b[0m\n",
      "\u001b[0;32m/Users/sunce/anaconda/lib/python2.7/site-packages/requests/packages/urllib3/contrib/pyopenssl.pyc\u001b[0m in \u001b[0;36mrecv\u001b[0;34m(self, *args, **kwargs)\u001b[0m\n\u001b[1;32m    244\u001b[0m         \u001b[0;32mexcept\u001b[0m \u001b[0mOpenSSL\u001b[0m\u001b[0;34m.\u001b[0m\u001b[0mSSL\u001b[0m\u001b[0;34m.\u001b[0m\u001b[0mWantReadError\u001b[0m\u001b[0;34m:\u001b[0m\u001b[0;34m\u001b[0m\u001b[0m\n\u001b[1;32m    245\u001b[0m             rd, wd, ed = select.select(\n\u001b[0;32m--> 246\u001b[0;31m                 [self.socket], [], [], self.socket.gettimeout())\n\u001b[0m\u001b[1;32m    247\u001b[0m             \u001b[0;32mif\u001b[0m \u001b[0;32mnot\u001b[0m \u001b[0mrd\u001b[0m\u001b[0;34m:\u001b[0m\u001b[0;34m\u001b[0m\u001b[0m\n\u001b[1;32m    248\u001b[0m                 \u001b[0;32mraise\u001b[0m \u001b[0mtimeout\u001b[0m\u001b[0;34m(\u001b[0m\u001b[0;34m'The read operation timed out'\u001b[0m\u001b[0;34m)\u001b[0m\u001b[0;34m\u001b[0m\u001b[0m\n",
      "\u001b[0;31mKeyboardInterrupt\u001b[0m: "
     ]
    }
   ],
   "source": [
    "from tweepy import Stream\n",
    "from tweepy.streaming import StreamListener\n",
    " \n",
    "class MyListener(StreamListener):\n",
    " \n",
    "    def on_data(self, data):\n",
    "        try:\n",
    "            with open('hackerTweets2.json', 'a') as f:\n",
    "                f.write(data)\n",
    "                return True\n",
    "        except BaseException as e:\n",
    "            print(\"Error on_data: %s\" % str(e))\n",
    "        return True\n",
    " \n",
    "    def on_error(self, status):\n",
    "        print(status)\n",
    "        return True\n",
    " \n",
    "twitter_stream = Stream(auth, MyListener())\n",
    "twitter_stream.filter(track=['hacker'])"
   ]
  },
  {
   "cell_type": "markdown",
   "metadata": {},
   "source": [
    "Task 3.2: Analizing tweets - Counting terms"
   ]
  },
  {
   "cell_type": "code",
   "execution_count": 3,
   "metadata": {
    "collapsed": false
   },
   "outputs": [
    {
     "name": "stdout",
     "output_type": "stream",
     "text": [
      "Hacks were DHS IP addresses \"NSA Director Uses \"Russian Hacker Threat\" To Gain Access To Voting Systems  https://t.co/68AVSc5mli\n",
      "RT @SkyNews: A hacker who cracked into an NHS website says it took him less than an hour to get through the out-of-date security https://t.…\n",
      "RT @Newsweek: Russian hacker says FBI offered him citizenship if he admitted to Clinton email hacks https://t.co/cDa67InmUb https://t.co/ol…\n",
      "Ocurren ciertos ataques informáticos,\"cyber atacks\",que denotan perversión, psicosis,ocio y crueldad sin sentido del hacker.Malignos idiotas\n",
      "RT @quigleyp: ELECTION FRAUD NEWS: Deep State Agencies Unlawfully Tampering In Free &amp; Fair Elections With Covert Surveillance Ops\n",
      "\n",
      "https://…\n",
      "Hacker. se uno de ellos (Spanish Edition https://t.co/gGuQLj9D5o #InfoSec #Cybersecurity https://t.co/kNojGaa4Sm\n",
      "Hacker. se uno de ellos (Spanish Edition https://t.co/LrTJfSMweD #InfoSec #Cybersecurity https://t.co/ahMSx46n10\n",
      "Hackers target city students; modus operandi exposed - Times of India https://t.co/HCQYOJVXRW #HB\n",
      "Ublock vs. ublock origin https://t.co/0qFXNHlGOx #HB\n",
      "How to Spot a Spook (1974) https://t.co/uWsKlMufdg #HB\n",
      "E junto vem os riscos!? São redução de empregos caixa ..mas aumenta risco de hacker na conta  qdo perda celular. . https://t.co/uGHeCek5qh\n",
      "NEWS: Hacker 'offered help' to NHS after finding holes in cyber security before nationwide attack on IT systems: https://t.co/PA5heFN0MR\n",
      "HACKER ❗ ALERT ALERT ❗ @michaelverda04 😒😂\n",
      "RT @ElExpedienteCol: Las operaciones secretas del hacker Rafael Revert con el gobierno de Ecuador https://t.co/tAQDCCnzKv\n",
      "...    Inside Russia’s Hacker Underworld ..... \n",
      "    https://t.co/pVa2pBXqNx\n",
      "J'ai hacker Palladium !\n",
      "RT @Margrz: FBI bribes hacker... https://t.co/h82mGZoq1x\n",
      "RT @Adam_Dan1985: #CyberAttack how can a English hacker find the kill switch overnight and our own government couldn't serious questions to…\n",
      "RT @AfroGamer21: hacker took my account now im banned. The guys charges up to $40 dollar for a service and he screwed my account. is there…\n",
      "User Growth and Engagement: A Hacker Metric by @nireyal Read:  https://t.co/3Toci3kWnb #marketing #growth https://t.co/kas3bzrofW\n",
      "I added a video to a @YouTube playlist https://t.co/gDDEYtb6Kh Dual Agar - ULTRA POPSPLITTING HACKER!?!? TIMED DOUBLESPLITS\n",
      "RT @michaelnixon70: Hope you can find @Jeremy_Hunt  to ask why. Or will you try to frame hospitals and staff ?\n",
      "#nhscyberattack… \n",
      "Attacco hacker, l'europarlamentare: \"Non aggiornare i pc è un atto di negligenza o ingenuità incredibile\" https://t.co/0bwALxiu98\n",
      "Vigilancia n Internet por hacker Black y un buen libro para quien y como hacen funcionar también los terroristas la… https://t.co/1O8b2eyRZZ\n",
      "Hacker Promises To Kill Apple Mac #Ransomware Before It Becomes A Nightmare #ransomware https://t.co/NAmgJ74hd2 https://t.co/mhvCTuya4n\n",
      "RT @docdhj: IT'SALL ABOUT CONTROL! NSA Director Uses \"Russian Hacker Threat\" To Gain Access To Voting Systems | Zero Hedge https://t.co/bZP…\n",
      "RT @SkyNews: A hacker who cracked into an NHS website says it took him less than an hour to get through the out-of-date security https://t.…\n",
      "omg!  dat awesome 😋😚 https://t.co/Xlcq3mrVxM\n",
      "\"Ublock vs. ublock origin\" by  via Hacker News https://t.co/oyHtwJToAE #news\n",
      "FBI offered him immunity in exchange for accepting responsibility for cyberattacks targeting Hillary Clinton.\n",
      "https://t.co/NaTkOvPnYP\n",
      "RT @kylie_oneil75: Russian Claims FBI Offered Him Citizenship-Apartment If he Confessed to Hacking Clinton's Inbox for Trump &amp; Putin https:…\n",
      "If not a \"world government\", at least the will to work together globally for the greater good #OneWorld https://t.co/qp9hsQPmVp\n",
      "Gostei de um vídeo @YouTube https://t.co/JEdtkKv5Bk Hacker Caiu Numa Trap - Banindo Hackers #3 MCPE 0.15.10\n",
      "RT @planetaryjim: NSA Director Uses \"Russian Hacker Threat\" To Gain Access To Voting Systems | Zero Hedge https://t.co/UdaSDGE0Y5\n",
      "Dual Agar - ULTRA POPSPLITTING HACKER!?!? TIMED DOUBLESPLITS DESTRUCTION!(GUEST VIDEO) https://t.co/gDDEYtb6Kh\n",
      "RT @soyunapringada_: @Joseluisalgar @Srta_Martilo yo tenia uno y me pasaba las tardes creendome hacker, ella es silicon valley\n",
      "RT @Mikelavilam: Vigilancia n Internet por hacker Black y un buen libro para quien y como hacen funcionar también los terroristas la… \n",
      "Cyberattacco: sale a 99 il numero dei Paesi colpiti dagli hacker - https://t.co/eFHuMOPzf0 #GoogleAlerts\n",
      "Gostei de um vídeo @YouTube https://t.co/ctS5zg1G7L BANINDO HACKERS #01 - ACHEI O MELHOR HACKER\n",
      "RT @docdhj: IT'SALL ABOUT CONTROL! NSA Director Uses \"Russian Hacker Threat\" To Gain Access To Voting Systems | Zero Hedge https://t.co/bZP…\n",
      "Imagine a virus that under diagnosis lung cancer silently 6-12 months. Medical ethics and morals corrupted by hacke… https://t.co/fYuCHXe6xr\n",
      "The Growth Hacker's Guide to #LinkedIn Publishing - via @autopilotus https://t.co/Ywag0U2Wlm https://t.co/yJ1ojWe1cT\n",
      "I need a Hacker by worldwidefixers https://t.co/AagdZt9YKO\n",
      "RT @dreamedofdust: #MAGA! https://t.co/QCDrfaRt3J EXPLOSIVE: Russian hacker claims FBI offered him cash and U.S. citizenship if he confesse…\n",
      "RT @MedBunker: Se dell'attacco hacker vi ha stupito che il SSN inglese usi Windows Xp, sarete felici sapendo che lo usano anche i… \n",
      "I need a Hacker by worldwidefixers https://t.co/UjaE2dL8Da Hello I need a Hacker to help me search some information from the website. (Bud…\n",
      "RT @KissedByFate2: AUTHORS IN DEPTH✏\n",
      "@LisetteBrodey\n",
      "WHY Is Molly Hacker\n",
      "SO DARN PICKY??\n",
      "#BOOKSPECIALS\n",
      "https://t.co/U3C4Xx7Cr2 … … https://t…\n",
      "RT @groupe_hacker: HAY, We are now going to the first step can be dangerous for us is how to hack two weeks soon soon #hacker #G… \n",
      "@faintdreams Yeah my screenshot is from that BBC article too. I wouldn't be surprised if they do get their silly ha… https://t.co/PMJ10hEWFL\n",
      "RT @adjunctprofessr: @yiamaste https://t.co/NaTkOvPnYP\n",
      "NSA Director Uses \"Russian Hacker Threat\" To Gain Access To Voting Systems | Zero Hedge https://t.co/SyXEFYZghj\n",
      "Wanacryptor-Attacke - Kommt das dicke Ende des Angriffs erst am Montag? https://t.co/kxbk7K5tVI\n",
      "@NightRTs report hacked account @Supreme_RTss\n",
      "and the hacker as well!! @thetwitxbiz!!\n",
      "@ATVIAssist I was playing MW3 and I was rank 42 no prestige. I joined a TDM and a hacker put me as master prestige 10.. can I restore :(\n",
      "Ik vind een @YouTube-video leuk: https://t.co/UZI7UCk4f8 The Hacker | Lego Minecraft Stop-Motion Animation\n",
      "Coucou à celui qui a hacker mon Twitter t'y est rester 2 minute dommage pour toi 😘\n",
      "P0wn-box : The dockerized toolbox https://t.co/JmXyESFDQZ #HB\n",
      "Cyber attack spreads across 74 countries; some UK hospitals crippled - Fox News https://t.co/WykzWOIjtb #HB\n",
      "Spends 10 Years Mastering Microsoft Paint to Illustrate His Book https://t.co/C3k1V7gGok #HB\n",
      "NHS hacker reveals it took less than an HOUR to break into hospital systems https://t.co/qAakU5cEEo https://t.co/0uTLnkgDjH\n",
      "@google I promise I am not an evIL hacker person. I had to ask my kids how to Tweet. I just want my Google back.\n",
      "The latest Ahmed AlNeaimy Hacker Daily!! https://t.co/yURRhr1Gbg #cybersecurity #cyberattack\n",
      "RT @SeriesUpdatesFR: #INFO Un hacker aurait réussi à pirater toute la saison 5 de OITNB et menace de la mettre en ligne si Netflix ne lui p…\n",
      "RT @CriptoNoticias: Expansión del virus #WannaCry puede detenerse, según un hacker ético que descubrió por accidente la vulnerabilidad. \n",
      "ht…\n",
      "For the greater good? Or just more government spying? #CIA #porn #Tor #cybersecurity #hacker https://t.co/i7rA3hnzB8\n"
     ]
    }
   ],
   "source": [
    "import json  \n",
    "with open('hackerTweets2.json','r') as json_file:\n",
    "         for line in json_file:\n",
    "             tweet = json.loads(line)\n",
    "             print tweet[\"text\"]\n",
    "            "
   ]
  },
  {
   "cell_type": "code",
   "execution_count": 4,
   "metadata": {
    "collapsed": false
   },
   "outputs": [
    {
     "name": "stdout",
     "output_type": "stream",
     "text": [
      "{\n",
      "    \"contributors\": null, \n",
      "    \"truncated\": false, \n",
      "    \"text\": \"Hacks were DHS IP addresses \\\"NSA Director Uses \\\"Russian Hacker Threat\\\" To Gain Access To Voting Systems  https://t.co/68AVSc5mli\", \n",
      "    \"is_quote_status\": false, \n",
      "    \"in_reply_to_status_id\": null, \n",
      "    \"id\": 863738408203452417, \n",
      "    \"favorite_count\": 0, \n",
      "    \"source\": \"<a href=\\\"http://twitter.com\\\" rel=\\\"nofollow\\\">Twitter Web Client</a>\", \n",
      "    \"retweeted\": false, \n",
      "    \"coordinates\": null, \n",
      "    \"timestamp_ms\": \"1494766258656\", \n",
      "    \"entities\": {\n",
      "        \"user_mentions\": [], \n",
      "        \"symbols\": [], \n",
      "        \"hashtags\": [], \n",
      "        \"urls\": [\n",
      "            {\n",
      "                \"url\": \"https://t.co/68AVSc5mli\", \n",
      "                \"indices\": [\n",
      "                    105, \n",
      "                    128\n",
      "                ], \n",
      "                \"expanded_url\": \"http://www.zerohedge.com/news/2017-05-13/nsa-director-uses-russian-hacker-threat-gain-access-voting-systems\", \n",
      "                \"display_url\": \"zerohedge.com/news/2017-05-1\\u2026\"\n",
      "            }\n",
      "        ]\n",
      "    }, \n",
      "    \"in_reply_to_screen_name\": null, \n",
      "    \"id_str\": \"863738408203452417\", \n",
      "    \"retweet_count\": 0, \n",
      "    \"in_reply_to_user_id\": null, \n",
      "    \"favorited\": false, \n",
      "    \"user\": {\n",
      "        \"follow_request_sent\": null, \n",
      "        \"profile_use_background_image\": true, \n",
      "        \"default_profile_image\": false, \n",
      "        \"id\": 115148632, \n",
      "        \"verified\": false, \n",
      "        \"profile_image_url_https\": \"https://pbs.twimg.com/profile_images/1144182319/tornado_normal.jpg\", \n",
      "        \"profile_sidebar_fill_color\": \"99CC33\", \n",
      "        \"profile_text_color\": \"3E4415\", \n",
      "        \"followers_count\": 1053, \n",
      "        \"profile_sidebar_border_color\": \"829D5E\", \n",
      "        \"id_str\": \"115148632\", \n",
      "        \"profile_background_color\": \"352726\", \n",
      "        \"listed_count\": 124, \n",
      "        \"profile_background_image_url_https\": \"https://pbs.twimg.com/profile_background_images/450536474/lighted2.jpg\", \n",
      "        \"utc_offset\": -18000, \n",
      "        \"statuses_count\": 131802, \n",
      "        \"description\": \"Computer security consultant, Libertarian leaning Independent, my passions Xtreme Weather Afficionado (just for the rush), music, fishing, hiking, nature\", \n",
      "        \"friends_count\": 498, \n",
      "        \"location\": \"Chicago, IL\", \n",
      "        \"profile_link_color\": \"D02B55\", \n",
      "        \"profile_image_url\": \"http://pbs.twimg.com/profile_images/1144182319/tornado_normal.jpg\", \n",
      "        \"following\": null, \n",
      "        \"geo_enabled\": true, \n",
      "        \"profile_background_image_url\": \"http://pbs.twimg.com/profile_background_images/450536474/lighted2.jpg\", \n",
      "        \"name\": \"Dave\", \n",
      "        \"lang\": \"en\", \n",
      "        \"profile_background_tile\": false, \n",
      "        \"favourites_count\": 4408, \n",
      "        \"screen_name\": \"stormchase3\", \n",
      "        \"notifications\": null, \n",
      "        \"url\": null, \n",
      "        \"created_at\": \"Wed Feb 17 19:28:39 +0000 2010\", \n",
      "        \"contributors_enabled\": false, \n",
      "        \"time_zone\": \"Central Time (US & Canada)\", \n",
      "        \"protected\": false, \n",
      "        \"default_profile\": false, \n",
      "        \"is_translator\": false\n",
      "    }, \n",
      "    \"geo\": null, \n",
      "    \"in_reply_to_user_id_str\": null, \n",
      "    \"possibly_sensitive\": false, \n",
      "    \"lang\": \"en\", \n",
      "    \"created_at\": \"Sun May 14 12:50:58 +0000 2017\", \n",
      "    \"filter_level\": \"low\", \n",
      "    \"in_reply_to_status_id_str\": null, \n",
      "    \"place\": null\n",
      "}\n"
     ]
    }
   ],
   "source": [
    " with open('hackerTweets2.json', 'r') as f:\n",
    "    line = f.readline() \n",
    "    tweet = json.loads(line) \n",
    "    print(json.dumps(tweet, indent=4)) "
   ]
  },
  {
   "cell_type": "code",
   "execution_count": 5,
   "metadata": {
    "collapsed": false
   },
   "outputs": [
    {
     "name": "stdout",
     "output_type": "stream",
     "text": [
      "[u'Hacks', u'were', u'DHS', u'IP', u'addresses', u'\"', u'NSA', u'Director', u'Uses', u'\"', u'Russian', u'Hacker', u'Threat', u'\"', u'To', u'Gain', u'Access', u'To', u'Voting', u'Systems', u'https://t.co/68AVSc5mli']\n",
      "[u'RT', u'@SkyNews', u':', u'A', u'hacker', u'who', u'cracked', u'into', u'an', u'NHS', u'website', u'says', u'it', u'took', u'him', u'less', u'than', u'an', u'hour', u'to', u'get', u'through', u'the', u'out-of-date', u'security', u'https://t.', u'\\u2026']\n",
      "[u'RT', u'@Newsweek', u':', u'Russian', u'hacker', u'says', u'FBI', u'offered', u'him', u'citizenship', u'if', u'he', u'admitted', u'to', u'Clinton', u'email', u'hacks', u'https://t.co/cDa67InmUb', u'https://t.co/ol', u'\\u2026']\n",
      "[u'Ocurren', u'ciertos', u'ataques', u'inform', u'\\xe1', u'ticos', u',', u'\"', u'cyber', u'atacks', u'\"', u',', u'que', u'denotan', u'perversi', u'\\xf3', u'n', u',', u'psicosis', u',', u'ocio', u'y', u'crueldad', u'sin', u'sentido', u'del', u'hacker', u'.', u'Malignos', u'idiotas']\n",
      "[u'RT', u'@quigleyp', u':', u'ELECTION', u'FRAUD', u'NEWS', u':', u'Deep', u'State', u'Agencies', u'Unlawfully', u'Tampering', u'In', u'Free', u'&', u'amp', u';', u'Fair', u'Elections', u'With', u'Covert', u'Surveillance', u'Ops', u'https', u':/', u'/', u'\\u2026']\n",
      "[u'Hacker', u'.', u'se', u'uno', u'de', u'ellos', u'(', u'Spanish', u'Edition', u'https://t.co/gGuQLj9D5o', u'#InfoSec', u'#Cybersecurity', u'https://t.co/kNojGaa4Sm']\n",
      "[u'Hacker', u'.', u'se', u'uno', u'de', u'ellos', u'(', u'Spanish', u'Edition', u'https://t.co/LrTJfSMweD', u'#InfoSec', u'#Cybersecurity', u'https://t.co/ahMSx46n10']\n",
      "[u'Hackers', u'target', u'city', u'students', u';', u'modus', u'operandi', u'exposed', u'-', u'Times', u'of', u'India', u'https://t.co/HCQYOJVXRW', u'#HB']\n",
      "[u'Ublock', u'vs', u'.', u'ublock', u'origin', u'https://t.co/0qFXNHlGOx', u'#HB']\n",
      "[u'How', u'to', u'Spot', u'a', u'Spook', u'(', u'1974', u')', u'https://t.co/uWsKlMufdg', u'#HB']\n",
      "[u'E', u'junto', u'vem', u'os', u'riscos', u'!', u'?', u'S', u'\\xe3', u'o', u'redu', u'\\xe7', u'\\xe3', u'o', u'de', u'empregos', u'caixa', u'.', u'.', u'mas', u'aumenta', u'risco', u'de', u'hacker', u'na', u'conta', u'qdo', u'perda', u'celular', u'.', u'.', u'https://t.co/uGHeCek5qh']\n",
      "[u'NEWS', u':', u'Hacker', u\"'\", u'offered', u'help', u\"'\", u'to', u'NHS', u'after', u'finding', u'holes', u'in', u'cyber', u'security', u'before', u'nationwide', u'attack', u'on', u'IT', u'systems', u':', u'https://t.co/PA5heFN0MR']\n",
      "[u'HACKER', u'\\u2757', u'ALERT', u'ALERT', u'\\u2757', u'@michaelverda04', u'\\ud83d', u'\\ude12', u'\\ud83d', u'\\ude02']\n",
      "[u'RT', u'@ElExpedienteCol', u':', u'Las', u'operaciones', u'secretas', u'del', u'hacker', u'Rafael', u'Revert', u'con', u'el', u'gobierno', u'de', u'Ecuador', u'https://t.co/tAQDCCnzKv']\n",
      "[u'.', u'.', u'.', u'Inside', u'Russia', u'\\u2019', u's', u'Hacker', u'Underworld', u'.', u'.', u'.', u'.', u'.', u'https://t.co/pVa2pBXqNx']\n",
      "[u\"J'ai\", u'hacker', u'Palladium', u'!']\n",
      "[u'RT', u'@Margrz', u':', u'FBI', u'bribes', u'hacker', u'.', u'.', u'.', u'https://t.co/h82mGZoq1x']\n",
      "[u'RT', u'@Adam_Dan1985', u':', u'#CyberAttack', u'how', u'can', u'a', u'English', u'hacker', u'find', u'the', u'kill', u'switch', u'overnight', u'and', u'our', u'own', u'government', u\"couldn't\", u'serious', u'questions', u'to', u'\\u2026']\n",
      "[u'RT', u'@AfroGamer21', u':', u'hacker', u'took', u'my', u'account', u'now', u'im', u'banned', u'.', u'The', u'guys', u'charges', u'up', u'to', u'$', u'40', u'dollar', u'for', u'a', u'service', u'and', u'he', u'screwed', u'my', u'account', u'.', u'is', u'there', u'\\u2026']\n",
      "[u'User', u'Growth', u'and', u'Engagement', u':', u'A', u'Hacker', u'Metric', u'by', u'@nireyal', u'Read', u':', u'https://t.co/3Toci3kWnb', u'#marketing', u'#growth', u'https://t.co/kas3bzrofW']\n",
      "[u'I', u'added', u'a', u'video', u'to', u'a', u'@YouTube', u'playlist', u'https://t.co/gDDEYtb6Kh', u'Dual', u'Agar', u'-', u'ULTRA', u'POPSPLITTING', u'HACKER', u'!', u'?', u'!', u'?', u'TIMED', u'DOUBLESPLITS']\n",
      "[u'RT', u'@michaelnixon70', u':', u'Hope', u'you', u'can', u'find', u'@Jeremy_Hunt', u'to', u'ask', u'why', u'.', u'Or', u'will', u'you', u'try', u'to', u'frame', u'hospitals', u'and', u'staff', u'?', u'#nhscyberattack', u'\\u2026']\n",
      "[u'Attacco', u'hacker', u',', u\"l'europarlamentare\", u':', u'\"', u'Non', u'aggiornare', u'i', u'pc', u'\\xe8', u'un', u'atto', u'di', u'negligenza', u'o', u'ingenuit', u'\\xe0', u'incredibile', u'\"', u'https://t.co/0bwALxiu98']\n",
      "[u'Vigilancia', u'n', u'Internet', u'por', u'hacker', u'Black', u'y', u'un', u'buen', u'libro', u'para', u'quien', u'y', u'como', u'hacen', u'funcionar', u'tambi', u'\\xe9', u'n', u'los', u'terroristas', u'la', u'\\u2026', u'https://t.co/1O8b2eyRZZ']\n",
      "[u'Hacker', u'Promises', u'To', u'Kill', u'Apple', u'Mac', u'#Ransomware', u'Before', u'It', u'Becomes', u'A', u'Nightmare', u'#ransomware', u'https://t.co/NAmgJ74hd2', u'https://t.co/mhvCTuya4n']\n",
      "[u'RT', u'@docdhj', u':', u\"IT'SALL\", u'ABOUT', u'CONTROL', u'!', u'NSA', u'Director', u'Uses', u'\"', u'Russian', u'Hacker', u'Threat', u'\"', u'To', u'Gain', u'Access', u'To', u'Voting', u'Systems', u'|', u'Zero', u'Hedge', u'https://t.co/bZP', u'\\u2026']\n",
      "[u'RT', u'@SkyNews', u':', u'A', u'hacker', u'who', u'cracked', u'into', u'an', u'NHS', u'website', u'says', u'it', u'took', u'him', u'less', u'than', u'an', u'hour', u'to', u'get', u'through', u'the', u'out-of-date', u'security', u'https://t.', u'\\u2026']\n",
      "[u'omg', u'!', u'dat', u'awesome', u'\\ud83d', u'\\ude0b', u'\\ud83d', u'\\ude1a', u'https://t.co/Xlcq3mrVxM']\n",
      "[u'\"', u'Ublock', u'vs', u'.', u'ublock', u'origin', u'\"', u'by', u'via', u'Hacker', u'News', u'https://t.co/oyHtwJToAE', u'#news']\n",
      "[u'FBI', u'\\xa0', u'offered', u'him', u'immunity', u'in', u'exchange', u'for', u'accepting', u'responsibility', u'for', u'cyberattacks', u'targeting', u'Hillary', u'Clinton', u'.', u'https://t.co/NaTkOvPnYP']\n",
      "[u'RT', u'@kylie_oneil75', u':', u'Russian', u'Claims', u'FBI', u'Offered', u'Him', u'Citizenship-Apartment', u'If', u'he', u'Confessed', u'to', u'Hacking', u\"Clinton's\", u'Inbox', u'for', u'Trump', u'&', u'amp', u';', u'Putin', u'https', u':', u'\\u2026']\n",
      "[u'If', u'not', u'a', u'\"', u'world', u'government', u'\"', u',', u'at', u'least', u'the', u'will', u'to', u'work', u'together', u'globally', u'for', u'the', u'greater', u'good', u'#OneWorld', u'https://t.co/qp9hsQPmVp']\n",
      "[u'Gostei', u'de', u'um', u'v', u'\\xed', u'deo', u'@YouTube', u'https://t.co/JEdtkKv5Bk', u'Hacker', u'Caiu', u'Numa', u'Trap', u'-', u'Banindo', u'Hackers', u'#', u'3', u'MCPE', u'0.15', u'.', u'10']\n",
      "[u'RT', u'@planetaryjim', u':', u'NSA', u'Director', u'Uses', u'\"', u'Russian', u'Hacker', u'Threat', u'\"', u'To', u'Gain', u'Access', u'To', u'Voting', u'Systems', u'|', u'Zero', u'Hedge', u'https://t.co/UdaSDGE0Y5']\n",
      "[u'Dual', u'Agar', u'-', u'ULTRA', u'POPSPLITTING', u'HACKER', u'!', u'?', u'!', u'?', u'TIMED', u'DOUBLESPLITS', u'DESTRUCTION', u'!', u'(', u'GUEST', u'VIDEO', u')', u'https://t.co/gDDEYtb6Kh']\n",
      "[u'RT', u'@soyunapringada_', u':', u'@Joseluisalgar', u'@Srta_Martilo', u'yo', u'tenia', u'uno', u'y', u'me', u'pasaba', u'las', u'tardes', u'creendome', u'hacker', u',', u'ella', u'es', u'silicon', u'valley']\n",
      "[u'RT', u'@Mikelavilam', u':', u'Vigilancia', u'n', u'Internet', u'por', u'hacker', u'Black', u'y', u'un', u'buen', u'libro', u'para', u'quien', u'y', u'como', u'hacen', u'funcionar', u'tambi', u'\\xe9', u'n', u'los', u'terroristas', u'la', u'\\u2026']\n",
      "[u'Cyberattacco', u':', u'sale', u'a', u'99', u'il', u'numero', u'dei', u'Paesi', u'colpiti', u'dagli', u'hacker', u'-', u'https://t.co/eFHuMOPzf0', u'#GoogleAlerts']\n",
      "[u'Gostei', u'de', u'um', u'v', u'\\xed', u'deo', u'@YouTube', u'https://t.co/ctS5zg1G7L', u'BANINDO', u'HACKERS', u'#01', u'-', u'ACHEI', u'O', u'MELHOR', u'HACKER']\n",
      "[u'RT', u'@docdhj', u':', u\"IT'SALL\", u'ABOUT', u'CONTROL', u'!', u'NSA', u'Director', u'Uses', u'\"', u'Russian', u'Hacker', u'Threat', u'\"', u'To', u'Gain', u'Access', u'To', u'Voting', u'Systems', u'|', u'Zero', u'Hedge', u'https://t.co/bZP', u'\\u2026']\n",
      "[u'Imagine', u'a', u'virus', u'that', u'under', u'diagnosis', u'lung', u'cancer', u'silently', u'6', u'-', u'12', u'months', u'.', u'Medical', u'ethics', u'and', u'morals', u'corrupted', u'by', u'hacke', u'\\u2026', u'https://t.co/fYuCHXe6xr']\n",
      "[u'The', u'Growth', u\"Hacker's\", u'Guide', u'to', u'#LinkedIn', u'Publishing', u'-', u'via', u'@autopilotus', u'https://t.co/Ywag0U2Wlm', u'https://t.co/yJ1ojWe1cT']\n",
      "[u'I', u'need', u'a', u'Hacker', u'by', u'worldwidefixers', u'https://t.co/AagdZt9YKO']\n",
      "[u'RT', u'@dreamedofdust', u':', u'#MAGA', u'!', u'https://t.co/QCDrfaRt3J', u'EXPLOSIVE', u':', u'Russian', u'hacker', u'claims', u'FBI', u'offered', u'him', u'cash', u'and', u'U', u'.', u'S', u'.', u'citizenship', u'if', u'he', u'confesse', u'\\u2026']\n",
      "[u'RT', u'@MedBunker', u':', u'Se', u\"dell'attacco\", u'hacker', u'vi', u'ha', u'stupito', u'che', u'il', u'SSN', u'inglese', u'usi', u'Windows', u'Xp', u',', u'sarete', u'felici', u'sapendo', u'che', u'lo', u'usano', u'anche', u'i', u'\\u2026']\n",
      "[u'I', u'need', u'a', u'Hacker', u'by', u'worldwidefixers', u'https://t.co/UjaE2dL8Da', u'Hello', u'I', u'need', u'a', u'Hacker', u'to', u'help', u'me', u'search', u'some', u'information', u'from', u'the', u'website', u'.', u'(', u'Bud', u'\\u2026']\n",
      "[u'RT', u'@KissedByFate2', u':', u'AUTHORS', u'IN', u'DEPTH', u'\\u270f', u'@LisetteBrodey', u'WHY', u'Is', u'Molly', u'Hacker', u'SO', u'DARN', u'PICKY', u'?', u'?', u'#BOOKSPECIALS', u'https://t.co/U3C4Xx7Cr2', u'\\u2026', u'\\u2026', u'https://t', u'\\u2026']\n",
      "[u'RT', u'@groupe_hacker', u':', u'HAY', u',', u'We', u'are', u'now', u'going', u'to', u'the', u'first', u'step', u'can', u'be', u'dangerous', u'for', u'us', u'is', u'how', u'to', u'hack', u'two', u'weeks', u'soon', u'soon', u'#hacker', u'#', u'G', u'\\u2026']\n",
      "[u'@faintdreams', u'Yeah', u'my', u'screenshot', u'is', u'from', u'that', u'BBC', u'article', u'too', u'.', u'I', u\"wouldn't\", u'be', u'surprised', u'if', u'they', u'do', u'get', u'their', u'silly', u'ha', u'\\u2026', u'https://t.co/PMJ10hEWFL']\n",
      "[u'RT', u'@adjunctprofessr', u':', u'@yiamaste', u'https://t.co/NaTkOvPnYP']\n",
      "[u'NSA', u'Director', u'Uses', u'\"', u'Russian', u'Hacker', u'Threat', u'\"', u'To', u'Gain', u'Access', u'To', u'Voting', u'Systems', u'|', u'Zero', u'Hedge', u'https://t.co/SyXEFYZghj']\n",
      "[u'Wanacryptor-Attacke', u'-', u'Kommt', u'das', u'dicke', u'Ende', u'des', u'Angriffs', u'erst', u'am', u'Montag', u'?', u'https://t.co/kxbk7K5tVI']\n",
      "[u'@NightRTs', u'report', u'hacked', u'account', u'@Supreme_RTss', u'and', u'the', u'hacker', u'as', u'well', u'!', u'!', u'@thetwitxbiz', u'!', u'!']\n",
      "[u'@ATVIAssist', u'I', u'was', u'playing', u'MW3', u'and', u'I', u'was', u'rank', u'42', u'no', u'prestige', u'.', u'I', u'joined', u'a', u'TDM', u'and', u'a', u'hacker', u'put', u'me', u'as', u'master', u'prestige', u'10', u'.', u'.', u'can', u'I', u'restore', u':(']\n",
      "[u'Ik', u'vind', u'een', u'@YouTube', u'-', u'video', u'leuk', u':', u'https://t.co/UZI7UCk4f8', u'The', u'Hacker', u'|', u'Lego', u'Minecraft', u'Stop-Motion', u'Animation']\n",
      "[u'Coucou', u'\\xe0', u'celui', u'qui', u'a', u'hacker', u'mon', u'Twitter', u\"t'y\", u'est', u'rester', u'2', u'minute', u'dommage', u'pour', u'toi', u'\\ud83d', u'\\ude18']\n",
      "[u'P0wn', u'-', u'box', u':', u'The', u'dockerized', u'toolbox', u'https://t.co/JmXyESFDQZ', u'#HB']\n",
      "[u'Cyber', u'attack', u'spreads', u'across', u'74', u'countries', u';', u'some', u'UK', u'hospitals', u'crippled', u'-', u'Fox', u'News', u'https://t.co/WykzWOIjtb', u'#HB']\n",
      "[u'Spends', u'10', u'Years', u'Mastering', u'Microsoft', u'Paint', u'to', u'Illustrate', u'His', u'Book', u'https://t.co/C3k1V7gGok', u'#HB']\n",
      "[u'NHS', u'hacker', u'reveals', u'it', u'took', u'less', u'than', u'an', u'HOUR', u'to', u'break', u'into', u'hospital', u'systems', u'https://t.co/qAakU5cEEo', u'https://t.co/0uTLnkgDjH']\n",
      "[u'@google', u'I', u'promise', u'I', u'am', u'not', u'an', u'evIL', u'hacker', u'person', u'.', u'I', u'had', u'to', u'ask', u'my', u'kids', u'how', u'to', u'Tweet', u'.', u'I', u'just', u'want', u'my', u'Google', u'back', u'.']\n",
      "[u'The', u'latest', u'Ahmed', u'AlNeaimy', u'\\uf8ff', u'Hacker', u'Daily', u'!', u'!', u'https://t.co/yURRhr1Gbg', u'#cybersecurity', u'#cyberattack']\n",
      "[u'RT', u'@SeriesUpdatesFR', u':', u'#INFO', u'Un', u'hacker', u'aurait', u'r', u'\\xe9', u'ussi', u'\\xe0', u'pirater', u'toute', u'la', u'saison', u'5', u'de', u'OITNB', u'et', u'menace', u'de', u'la', u'mettre', u'en', u'ligne', u'si', u'Netflix', u'ne', u'lui', u'p', u'\\u2026']\n",
      "[u'RT', u'@CriptoNoticias', u':', u'Expansi', u'\\xf3', u'n', u'del', u'virus', u'#WannaCry', u'puede', u'detenerse', u',', u'seg', u'\\xfa', u'n', u'un', u'hacker', u'\\xe9', u'tico', u'que', u'descubri', u'\\xf3', u'por', u'accidente', u'la', u'vulnerabilidad', u'.', u'ht', u'\\u2026']\n",
      "[u'For', u'the', u'greater', u'good', u'?', u'Or', u'just', u'more', u'government', u'spying', u'?', u'#CIA', u'#porn', u'#Tor', u'#cybersecurity', u'#hacker', u'https://t.co/i7rA3hnzB8']\n"
     ]
    }
   ],
   "source": [
    "import re\n",
    " \n",
    "emoticons_str = r\"\"\"\n",
    "    (?:\n",
    "        [:=;] # Eyes\n",
    "        [oO\\-]? # Nose (optional)\n",
    "        [D\\)\\]\\(\\]/\\\\OpP] # Mouth\n",
    "    )\"\"\"\n",
    " \n",
    "regex_str = [\n",
    "    emoticons_str,\n",
    "    r'<[^>]+>', # HTML tags\n",
    "    r'(?:@[\\w_]+)', # @-mentions\n",
    "    r\"(?:\\#+[\\w_]+[\\w\\'_\\-]*[\\w_]+)\", # hash-tags\n",
    "    r'http[s]?://(?:[a-z]|[0-9]|[$-_@.&+]|[!*\\(\\),]|(?:%[0-9a-f][0-9a-f]))+', # URLs\n",
    " \n",
    "    r'(?:(?:\\d+,?)+(?:\\.?\\d+)?)', # numbers\n",
    "    r\"(?:[a-z][a-z'\\-_]+[a-z])\", # words with - and '\n",
    "    r'(?:[\\w_]+)', # other words\n",
    "    r'(?:\\S)' # anything else\n",
    "]\n",
    "    \n",
    "tokens_re = re.compile(r'('+'|'.join(regex_str)+')', re.VERBOSE | re.IGNORECASE)\n",
    "emoticon_re = re.compile(r'^'+emoticons_str+'$', re.VERBOSE | re.IGNORECASE)\n",
    " \n",
    "def tokenize(s):\n",
    "    return tokens_re.findall(s)\n",
    " \n",
    "def preprocess(s, lowercase=False):\n",
    "    tokens = tokenize(s)\n",
    "    if lowercase:\n",
    "        tokens = [token if emoticon_re.search(token) else token.lower() for token in tokens]\n",
    "    return tokens\n",
    "\n",
    "with open('hackerTweets2.json', 'r') as f:\n",
    "#import io\n",
    "#f=io.open('data/stream_barcelona.json', 'r', encoding='utf8' )\n",
    "\n",
    "     for line in f:\n",
    "        tweet = json.loads(line)\n",
    "        tokens = preprocess(tweet['text'])\n",
    "        print(tokens)"
   ]
  },
  {
   "cell_type": "code",
   "execution_count": 6,
   "metadata": {
    "collapsed": false
   },
   "outputs": [
    {
     "name": "stdout",
     "output_type": "stream",
     "text": [
      "[(u'.', 37), (u':', 33), (u'hacker', 24), (u'\\u2026', 23), (u'RT', 22)]\n"
     ]
    }
   ],
   "source": [
    "import operator \n",
    "import json\n",
    "from collections import Counter\n",
    "\n",
    "fname = 'hackerTweets2.json'\n",
    "with open(fname, 'r') as f:\n",
    "   count_all = Counter()\n",
    "   for line in f:\n",
    "       tweet = json.loads(line)\n",
    "       # Create a list with all the terms\n",
    "       terms_all = [term for term in preprocess(tweet['text'])]\n",
    "       # Update the counter\n",
    "       count_all.update(terms_all)\n",
    "   print(count_all.most_common(5))\n"
   ]
  },
  {
   "cell_type": "code",
   "execution_count": 7,
   "metadata": {
    "collapsed": false
   },
   "outputs": [
    {
     "name": "stdout",
     "output_type": "stream",
     "text": [
      "[nltk_data] Downloading package stopwords to /Users/sunce/nltk_data...\n",
      "[nltk_data]   Package stopwords is already up-to-date!\n"
     ]
    }
   ],
   "source": [
    "import nltk\n",
    "from nltk.corpus import stopwords\n",
    "nltk.download(\"stopwords\") # download the stopword corpus on our computer\n",
    "import string\n",
    " \n",
    "punctuation = list(string.punctuation)\n",
    "stop = stopwords.words('english') + punctuation + ['rt', 'via', 'RT']\n",
    "from collections import Counter\n"
   ]
  },
  {
   "cell_type": "code",
   "execution_count": 8,
   "metadata": {
    "collapsed": false
   },
   "outputs": [
    {
     "name": "stdout",
     "output_type": "stream",
     "text": [
      "hacker : 24\n",
      "… : 23\n",
      "Hacker : 19\n",
      "I : 13\n",
      "To : 11\n"
     ]
    }
   ],
   "source": [
    "import operator \n",
    "import json\n",
    "from collections import Counter\n",
    " \n",
    "fname = 'hackerTweets2.json'\n",
    "with open(fname, 'r') as f:\n",
    "    count_all = Counter()\n",
    "    for line in f:\n",
    "        tweet = json.loads(line)\n",
    "        # Create a list with all the terms\n",
    "        terms_stop = [term for term in preprocess(tweet['text']) if term not in stop]\n",
    "        count_all.update(terms_stop)\n",
    "    for word, index in count_all.most_common(5):\n",
    "        print '%s : %s' % (word, index)"
   ]
  },
  {
   "cell_type": "code",
   "execution_count": 9,
   "metadata": {
    "collapsed": false
   },
   "outputs": [
    {
     "name": "stdout",
     "output_type": "stream",
     "text": [
      "#HB : 6\n",
      "#InfoSec : 2\n",
      "# : 2\n",
      "#cybersecurity : 2\n",
      "#hacker : 2\n"
     ]
    }
   ],
   "source": [
    "import operator \n",
    "import json\n",
    "from collections import Counter\n",
    " \n",
    "fname = 'hackerTweets2.json'\n",
    "with open(fname, 'r') as f:\n",
    "    count_all = Counter()\n",
    "    for line in f:\n",
    "        tweet = json.loads(line)\n",
    "        # Create a list with all the terms\n",
    "        terms_stop = [term for term in preprocess(tweet['text']) if term not in stop]\n",
    "        terms_hash = [term for term in preprocess(tweet['text']) \n",
    "              if term.startswith('#')]\n",
    "        count_all.update(terms_hash)\n",
    "    for word, index in count_all.most_common(5):\n",
    "        print '%s : %s' % (word, index)\n"
   ]
  },
  {
   "cell_type": "code",
   "execution_count": 10,
   "metadata": {
    "collapsed": false
   },
   "outputs": [
    {
     "name": "stdout",
     "output_type": "stream",
     "text": [
      "#CIA : 65\n",
      "#porn : 65\n",
      "#hacker : 65\n",
      "#cybersecurity : 65\n",
      "#Tor : 65\n"
     ]
    }
   ],
   "source": [
    "import operator \n",
    "import json\n",
    "from collections import Counter\n",
    " \n",
    "fname = 'hackerTweets2.json'\n",
    "with open(fname, 'r') as f:\n",
    "    count_all = Counter()\n",
    "    for line in f:\n",
    "        tweet = json.loads(line)\n",
    "        # Create a list with all the terms\n",
    "        terms_only = [term for term in preprocess(tweet['text']) \n",
    "              if term not in stop and\n",
    "              not term.startswith(('#', '@'))] \n",
    "        count_all.update(terms_hash)\n",
    "    for word, index in count_all.most_common(5):\n",
    "        print '%s : %s' % (word, index)\n"
   ]
  },
  {
   "cell_type": "markdown",
   "metadata": {},
   "source": [
    "### Task 3.3: Case study"
   ]
  },
  {
   "cell_type": "code",
   "execution_count": 12,
   "metadata": {
    "collapsed": false
   },
   "outputs": [
    {
     "name": "stdout",
     "output_type": "stream",
     "text": [
      "[(u'#HB', 6), (u'#InfoSec', 2), (u'#cybersecurity', 2), (u'#hacker', 2), (u'#Cybersecurity', 2), (u'#MAGA', 1), (u'#INFO', 1), (u'#OneWorld', 1), (u'#nhscyberattack', 1), (u'#CIA', 1), (u'#porn', 1), (u'#01', 1), (u'#marketing', 1), (u'#BOOKSPECIALS', 1), (u'#news', 1)]\n"
     ]
    }
   ],
   "source": [
    "import operator \n",
    "import json\n",
    "from collections import Counter\n",
    " \n",
    "fname = 'hackerTweets2.json'\n",
    "with open(fname, 'r') as f:\n",
    "    count_all = Counter()\n",
    "    for line in f:\n",
    "        tweet = json.loads(line)\n",
    "        # Create a list with all the terms\n",
    "        terms_hash = [term for term in preprocess(tweet['text']) if term.startswith('#') and term not in stop]        \n",
    "        count_all.update(terms_hash)\n",
    "# Print the first 10 most frequent words\n",
    "print(count_all.most_common(15))"
   ]
  },
  {
   "cell_type": "code",
   "execution_count": 13,
   "metadata": {
    "collapsed": false
   },
   "outputs": [
    {
     "data": {
      "image/png": "[encoded data removed]",
      "text/plain": [
       "<matplotlib.figure.Figure at 0x115970910>"
      ]
     },
     "metadata": {},
     "output_type": "display_data"
    }
   ],
   "source": [
    "%matplotlib inline\n",
    "import matplotlib as mpl\n",
    "mpl.rcParams['figure.figsize'] = (15,10)\n",
    "import matplotlib.pyplot as plt\n",
    "\n",
    "sorted_x, sorted_y = zip(*count_all.most_common(15))\n",
    "#print(sorted_x, sorted_y)\n",
    "\n",
    "plt.bar(range(len(sorted_x)), sorted_y, width=0.75, align='center');\n",
    "plt.xticks(range(len(sorted_x)), sorted_x, rotation=80);\n",
    "plt.axis('tight'); "
   ]
  },
  {
   "cell_type": "code",
   "execution_count": null,
   "metadata": {
    "collapsed": true
   },
   "outputs": [],
   "source": []
  }
 ],
 "metadata": {
  "kernelspec": {
   "display_name": "Python 2",
   "language": "python",
   "name": "python2"
  },
  "language_info": {
   "codemirror_mode": {
    "name": "ipython",
    "version": 2
   },
   "file_extension": ".py",
   "mimetype": "text/x-python",
   "name": "python",
   "nbconvert_exporter": "python",
   "pygments_lexer": "ipython2",
   "version": "2.7.13"
  }
 },
 "nbformat": 4,
 "nbformat_minor": 2
}
