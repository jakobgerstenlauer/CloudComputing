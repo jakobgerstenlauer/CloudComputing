{
 "cells": [
  {
   "cell_type": "markdown",
   "metadata": {},
   "source": [
    "Task 3.1"
   ]
  },
  {
   "cell_type": "code",
   "execution_count": 1,
   "metadata": {
    "collapsed": true
   },
   "outputs": [],
   "source": [
    "import tweepy\n",
    "from tweepy import OAuthHandler\n",
    "\n",
    "consumer_key = 'apVFqg1nQzntPQRtfnCcnKazl'\n",
    "consumer_secret = 'uBFI5MQP74qD07IW5lSjwDaEe2QbWo1YHFHZTZrn8ZFTnRDD4j'\n",
    "access_token = '831480969823715328-mdG8bdkqmfjGEtXSbER5FMAeHEOQ6eg'\n",
    "access_secret = 'x4PeYShmCWcRL9xMbpx5BEjv8k5BovvJZx67HjGYUrBhp'\n",
    "\n",
    "auth = OAuthHandler(consumer_key, consumer_secret)\n",
    "auth.set_access_token(access_token, access_secret)\n",
    " \n",
    "api = tweepy.API(auth)\n"
   ]
  },
  {
   "cell_type": "code",
   "execution_count": 2,
   "metadata": {
    "collapsed": false
   },
   "outputs": [
    {
     "ename": "KeyboardInterrupt",
     "evalue": "",
     "output_type": "error",
     "traceback": [
      "\u001b[0;31m---------------------------------------------------------------------------\u001b[0m",
      "\u001b[0;31mKeyboardInterrupt\u001b[0m                         Traceback (most recent call last)",
      "\u001b[0;32m<ipython-input-2-bdf1e3c198a3>\u001b[0m in \u001b[0;36m<module>\u001b[0;34m()\u001b[0m\n\u001b[1;32m     18\u001b[0m \u001b[0;34m\u001b[0m\u001b[0m\n\u001b[1;32m     19\u001b[0m \u001b[0mtwitter_stream\u001b[0m \u001b[0;34m=\u001b[0m \u001b[0mStream\u001b[0m\u001b[0;34m(\u001b[0m\u001b[0mauth\u001b[0m\u001b[0;34m,\u001b[0m \u001b[0mMyListener\u001b[0m\u001b[0;34m(\u001b[0m\u001b[0;34m)\u001b[0m\u001b[0;34m)\u001b[0m\u001b[0;34m\u001b[0m\u001b[0m\n\u001b[0;32m---> 20\u001b[0;31m \u001b[0mtwitter_stream\u001b[0m\u001b[0;34m.\u001b[0m\u001b[0mfilter\u001b[0m\u001b[0;34m(\u001b[0m\u001b[0mtrack\u001b[0m\u001b[0;34m=\u001b[0m\u001b[0;34m[\u001b[0m\u001b[0;34m'ArtificialIntelligence'\u001b[0m\u001b[0;34m]\u001b[0m\u001b[0;34m)\u001b[0m\u001b[0;34m\u001b[0m\u001b[0m\n\u001b[0m",
      "\u001b[0;32m/Users/sunce/anaconda/lib/python2.7/site-packages/tweepy/streaming.pyc\u001b[0m in \u001b[0;36mfilter\u001b[0;34m(self, follow, track, async, locations, stall_warnings, languages, encoding, filter_level)\u001b[0m\n\u001b[1;32m    443\u001b[0m         \u001b[0mself\u001b[0m\u001b[0;34m.\u001b[0m\u001b[0msession\u001b[0m\u001b[0;34m.\u001b[0m\u001b[0mparams\u001b[0m \u001b[0;34m=\u001b[0m \u001b[0;34m{\u001b[0m\u001b[0;34m'delimited'\u001b[0m\u001b[0;34m:\u001b[0m \u001b[0;34m'length'\u001b[0m\u001b[0;34m}\u001b[0m\u001b[0;34m\u001b[0m\u001b[0m\n\u001b[1;32m    444\u001b[0m         \u001b[0mself\u001b[0m\u001b[0;34m.\u001b[0m\u001b[0mhost\u001b[0m \u001b[0;34m=\u001b[0m \u001b[0;34m'stream.twitter.com'\u001b[0m\u001b[0;34m\u001b[0m\u001b[0m\n\u001b[0;32m--> 445\u001b[0;31m         \u001b[0mself\u001b[0m\u001b[0;34m.\u001b[0m\u001b[0m_start\u001b[0m\u001b[0;34m(\u001b[0m\u001b[0masync\u001b[0m\u001b[0;34m)\u001b[0m\u001b[0;34m\u001b[0m\u001b[0m\n\u001b[0m\u001b[1;32m    446\u001b[0m \u001b[0;34m\u001b[0m\u001b[0m\n\u001b[1;32m    447\u001b[0m     def sitestream(self, follow, stall_warnings=False,\n",
      "\u001b[0;32m/Users/sunce/anaconda/lib/python2.7/site-packages/tweepy/streaming.pyc\u001b[0m in \u001b[0;36m_start\u001b[0;34m(self, async)\u001b[0m\n\u001b[1;32m    359\u001b[0m             \u001b[0mself\u001b[0m\u001b[0;34m.\u001b[0m\u001b[0m_thread\u001b[0m\u001b[0;34m.\u001b[0m\u001b[0mstart\u001b[0m\u001b[0;34m(\u001b[0m\u001b[0;34m)\u001b[0m\u001b[0;34m\u001b[0m\u001b[0m\n\u001b[1;32m    360\u001b[0m         \u001b[0;32melse\u001b[0m\u001b[0;34m:\u001b[0m\u001b[0;34m\u001b[0m\u001b[0m\n\u001b[0;32m--> 361\u001b[0;31m             \u001b[0mself\u001b[0m\u001b[0;34m.\u001b[0m\u001b[0m_run\u001b[0m\u001b[0;34m(\u001b[0m\u001b[0;34m)\u001b[0m\u001b[0;34m\u001b[0m\u001b[0m\n\u001b[0m\u001b[1;32m    362\u001b[0m \u001b[0;34m\u001b[0m\u001b[0m\n\u001b[1;32m    363\u001b[0m     \u001b[0;32mdef\u001b[0m \u001b[0mon_closed\u001b[0m\u001b[0;34m(\u001b[0m\u001b[0mself\u001b[0m\u001b[0;34m,\u001b[0m \u001b[0mresp\u001b[0m\u001b[0;34m)\u001b[0m\u001b[0;34m:\u001b[0m\u001b[0;34m\u001b[0m\u001b[0m\n",
      "\u001b[0;32m/Users/sunce/anaconda/lib/python2.7/site-packages/tweepy/streaming.pyc\u001b[0m in \u001b[0;36m_run\u001b[0;34m(self)\u001b[0m\n\u001b[1;32m    261\u001b[0m                     \u001b[0mself\u001b[0m\u001b[0;34m.\u001b[0m\u001b[0msnooze_time\u001b[0m \u001b[0;34m=\u001b[0m \u001b[0mself\u001b[0m\u001b[0;34m.\u001b[0m\u001b[0msnooze_time_step\u001b[0m\u001b[0;34m\u001b[0m\u001b[0m\n\u001b[1;32m    262\u001b[0m                     \u001b[0mself\u001b[0m\u001b[0;34m.\u001b[0m\u001b[0mlistener\u001b[0m\u001b[0;34m.\u001b[0m\u001b[0mon_connect\u001b[0m\u001b[0;34m(\u001b[0m\u001b[0;34m)\u001b[0m\u001b[0;34m\u001b[0m\u001b[0m\n\u001b[0;32m--> 263\u001b[0;31m                     \u001b[0mself\u001b[0m\u001b[0;34m.\u001b[0m\u001b[0m_read_loop\u001b[0m\u001b[0;34m(\u001b[0m\u001b[0mresp\u001b[0m\u001b[0;34m)\u001b[0m\u001b[0;34m\u001b[0m\u001b[0m\n\u001b[0m\u001b[1;32m    264\u001b[0m             \u001b[0;32mexcept\u001b[0m \u001b[0;34m(\u001b[0m\u001b[0mTimeout\u001b[0m\u001b[0;34m,\u001b[0m \u001b[0mssl\u001b[0m\u001b[0;34m.\u001b[0m\u001b[0mSSLError\u001b[0m\u001b[0;34m)\u001b[0m \u001b[0;32mas\u001b[0m \u001b[0mexc\u001b[0m\u001b[0;34m:\u001b[0m\u001b[0;34m\u001b[0m\u001b[0m\n\u001b[1;32m    265\u001b[0m                 \u001b[0;31m# This is still necessary, as a SSLError can actually be\u001b[0m\u001b[0;34m\u001b[0m\u001b[0;34m\u001b[0m\u001b[0m\n",
      "\u001b[0;32m/Users/sunce/anaconda/lib/python2.7/site-packages/tweepy/streaming.pyc\u001b[0m in \u001b[0;36m_read_loop\u001b[0;34m(self, resp)\u001b[0m\n\u001b[1;32m    311\u001b[0m             \u001b[0mlength\u001b[0m \u001b[0;34m=\u001b[0m \u001b[0;36m0\u001b[0m\u001b[0;34m\u001b[0m\u001b[0m\n\u001b[1;32m    312\u001b[0m             \u001b[0;32mwhile\u001b[0m \u001b[0;32mnot\u001b[0m \u001b[0mresp\u001b[0m\u001b[0;34m.\u001b[0m\u001b[0mraw\u001b[0m\u001b[0;34m.\u001b[0m\u001b[0mclosed\u001b[0m\u001b[0;34m:\u001b[0m\u001b[0;34m\u001b[0m\u001b[0m\n\u001b[0;32m--> 313\u001b[0;31m                 \u001b[0mline\u001b[0m \u001b[0;34m=\u001b[0m \u001b[0mbuf\u001b[0m\u001b[0;34m.\u001b[0m\u001b[0mread_line\u001b[0m\u001b[0;34m(\u001b[0m\u001b[0;34m)\u001b[0m\u001b[0;34m.\u001b[0m\u001b[0mstrip\u001b[0m\u001b[0;34m(\u001b[0m\u001b[0;34m)\u001b[0m\u001b[0;34m\u001b[0m\u001b[0m\n\u001b[0m\u001b[1;32m    314\u001b[0m                 \u001b[0;32mif\u001b[0m \u001b[0;32mnot\u001b[0m \u001b[0mline\u001b[0m\u001b[0;34m:\u001b[0m\u001b[0;34m\u001b[0m\u001b[0m\n\u001b[1;32m    315\u001b[0m                     \u001b[0mself\u001b[0m\u001b[0;34m.\u001b[0m\u001b[0mlistener\u001b[0m\u001b[0;34m.\u001b[0m\u001b[0mkeep_alive\u001b[0m\u001b[0;34m(\u001b[0m\u001b[0;34m)\u001b[0m  \u001b[0;31m# keep-alive new lines are expected\u001b[0m\u001b[0;34m\u001b[0m\u001b[0m\n",
      "\u001b[0;32m/Users/sunce/anaconda/lib/python2.7/site-packages/tweepy/streaming.pyc\u001b[0m in \u001b[0;36mread_line\u001b[0;34m(self, sep)\u001b[0m\n\u001b[1;32m    177\u001b[0m             \u001b[0;32melse\u001b[0m\u001b[0;34m:\u001b[0m\u001b[0;34m\u001b[0m\u001b[0m\n\u001b[1;32m    178\u001b[0m                 \u001b[0mstart\u001b[0m \u001b[0;34m=\u001b[0m \u001b[0mlen\u001b[0m\u001b[0;34m(\u001b[0m\u001b[0mself\u001b[0m\u001b[0;34m.\u001b[0m\u001b[0m_buffer\u001b[0m\u001b[0;34m)\u001b[0m\u001b[0;34m\u001b[0m\u001b[0m\n\u001b[0;32m--> 179\u001b[0;31m             \u001b[0mself\u001b[0m\u001b[0;34m.\u001b[0m\u001b[0m_buffer\u001b[0m \u001b[0;34m+=\u001b[0m \u001b[0mself\u001b[0m\u001b[0;34m.\u001b[0m\u001b[0m_stream\u001b[0m\u001b[0;34m.\u001b[0m\u001b[0mread\u001b[0m\u001b[0;34m(\u001b[0m\u001b[0mself\u001b[0m\u001b[0;34m.\u001b[0m\u001b[0m_chunk_size\u001b[0m\u001b[0;34m)\u001b[0m\u001b[0;34m\u001b[0m\u001b[0m\n\u001b[0m\u001b[1;32m    180\u001b[0m \u001b[0;34m\u001b[0m\u001b[0m\n\u001b[1;32m    181\u001b[0m     \u001b[0;32mdef\u001b[0m \u001b[0m_pop\u001b[0m\u001b[0;34m(\u001b[0m\u001b[0mself\u001b[0m\u001b[0;34m,\u001b[0m \u001b[0mlength\u001b[0m\u001b[0;34m)\u001b[0m\u001b[0;34m:\u001b[0m\u001b[0;34m\u001b[0m\u001b[0m\n",
      "\u001b[0;32m/Users/sunce/anaconda/lib/python2.7/site-packages/requests/packages/urllib3/response.pyc\u001b[0m in \u001b[0;36mread\u001b[0;34m(self, amt, decode_content, cache_content)\u001b[0m\n\u001b[1;32m    378\u001b[0m             \u001b[0;32melse\u001b[0m\u001b[0;34m:\u001b[0m\u001b[0;34m\u001b[0m\u001b[0m\n\u001b[1;32m    379\u001b[0m                 \u001b[0mcache_content\u001b[0m \u001b[0;34m=\u001b[0m \u001b[0mFalse\u001b[0m\u001b[0;34m\u001b[0m\u001b[0m\n\u001b[0;32m--> 380\u001b[0;31m                 \u001b[0mdata\u001b[0m \u001b[0;34m=\u001b[0m \u001b[0mself\u001b[0m\u001b[0;34m.\u001b[0m\u001b[0m_fp\u001b[0m\u001b[0;34m.\u001b[0m\u001b[0mread\u001b[0m\u001b[0;34m(\u001b[0m\u001b[0mamt\u001b[0m\u001b[0;34m)\u001b[0m\u001b[0;34m\u001b[0m\u001b[0m\n\u001b[0m\u001b[1;32m    381\u001b[0m                 \u001b[0;32mif\u001b[0m \u001b[0mamt\u001b[0m \u001b[0;34m!=\u001b[0m \u001b[0;36m0\u001b[0m \u001b[0;32mand\u001b[0m \u001b[0;32mnot\u001b[0m \u001b[0mdata\u001b[0m\u001b[0;34m:\u001b[0m  \u001b[0;31m# Platform-specific: Buggy versions of Python.\u001b[0m\u001b[0;34m\u001b[0m\u001b[0m\n\u001b[1;32m    382\u001b[0m                     \u001b[0;31m# Close the connection when no data is returned\u001b[0m\u001b[0;34m\u001b[0m\u001b[0;34m\u001b[0m\u001b[0m\n",
      "\u001b[0;32m/Users/sunce/anaconda/lib/python2.7/httplib.pyc\u001b[0m in \u001b[0;36mread\u001b[0;34m(self, amt)\u001b[0m\n\u001b[1;32m    571\u001b[0m \u001b[0;34m\u001b[0m\u001b[0m\n\u001b[1;32m    572\u001b[0m         \u001b[0;32mif\u001b[0m \u001b[0mself\u001b[0m\u001b[0;34m.\u001b[0m\u001b[0mchunked\u001b[0m\u001b[0;34m:\u001b[0m\u001b[0;34m\u001b[0m\u001b[0m\n\u001b[0;32m--> 573\u001b[0;31m             \u001b[0;32mreturn\u001b[0m \u001b[0mself\u001b[0m\u001b[0;34m.\u001b[0m\u001b[0m_read_chunked\u001b[0m\u001b[0;34m(\u001b[0m\u001b[0mamt\u001b[0m\u001b[0;34m)\u001b[0m\u001b[0;34m\u001b[0m\u001b[0m\n\u001b[0m\u001b[1;32m    574\u001b[0m \u001b[0;34m\u001b[0m\u001b[0m\n\u001b[1;32m    575\u001b[0m         \u001b[0;32mif\u001b[0m \u001b[0mamt\u001b[0m \u001b[0;32mis\u001b[0m \u001b[0mNone\u001b[0m\u001b[0;34m:\u001b[0m\u001b[0;34m\u001b[0m\u001b[0m\n",
      "\u001b[0;32m/Users/sunce/anaconda/lib/python2.7/httplib.pyc\u001b[0m in \u001b[0;36m_read_chunked\u001b[0;34m(self, amt)\u001b[0m\n\u001b[1;32m    613\u001b[0m         \u001b[0;32mwhile\u001b[0m \u001b[0mTrue\u001b[0m\u001b[0;34m:\u001b[0m\u001b[0;34m\u001b[0m\u001b[0m\n\u001b[1;32m    614\u001b[0m             \u001b[0;32mif\u001b[0m \u001b[0mchunk_left\u001b[0m \u001b[0;32mis\u001b[0m \u001b[0mNone\u001b[0m\u001b[0;34m:\u001b[0m\u001b[0;34m\u001b[0m\u001b[0m\n\u001b[0;32m--> 615\u001b[0;31m                 \u001b[0mline\u001b[0m \u001b[0;34m=\u001b[0m \u001b[0mself\u001b[0m\u001b[0;34m.\u001b[0m\u001b[0mfp\u001b[0m\u001b[0;34m.\u001b[0m\u001b[0mreadline\u001b[0m\u001b[0;34m(\u001b[0m\u001b[0m_MAXLINE\u001b[0m \u001b[0;34m+\u001b[0m \u001b[0;36m1\u001b[0m\u001b[0;34m)\u001b[0m\u001b[0;34m\u001b[0m\u001b[0m\n\u001b[0m\u001b[1;32m    616\u001b[0m                 \u001b[0;32mif\u001b[0m \u001b[0mlen\u001b[0m\u001b[0;34m(\u001b[0m\u001b[0mline\u001b[0m\u001b[0;34m)\u001b[0m \u001b[0;34m>\u001b[0m \u001b[0m_MAXLINE\u001b[0m\u001b[0;34m:\u001b[0m\u001b[0;34m\u001b[0m\u001b[0m\n\u001b[1;32m    617\u001b[0m                     \u001b[0;32mraise\u001b[0m \u001b[0mLineTooLong\u001b[0m\u001b[0;34m(\u001b[0m\u001b[0;34m\"chunk size\"\u001b[0m\u001b[0;34m)\u001b[0m\u001b[0;34m\u001b[0m\u001b[0m\n",
      "\u001b[0;32m/Users/sunce/anaconda/lib/python2.7/socket.pyc\u001b[0m in \u001b[0;36mreadline\u001b[0;34m(self, size)\u001b[0m\n\u001b[1;32m    478\u001b[0m             \u001b[0;32mwhile\u001b[0m \u001b[0mTrue\u001b[0m\u001b[0;34m:\u001b[0m\u001b[0;34m\u001b[0m\u001b[0m\n\u001b[1;32m    479\u001b[0m                 \u001b[0;32mtry\u001b[0m\u001b[0;34m:\u001b[0m\u001b[0;34m\u001b[0m\u001b[0m\n\u001b[0;32m--> 480\u001b[0;31m                     \u001b[0mdata\u001b[0m \u001b[0;34m=\u001b[0m \u001b[0mself\u001b[0m\u001b[0;34m.\u001b[0m\u001b[0m_sock\u001b[0m\u001b[0;34m.\u001b[0m\u001b[0mrecv\u001b[0m\u001b[0;34m(\u001b[0m\u001b[0mself\u001b[0m\u001b[0;34m.\u001b[0m\u001b[0m_rbufsize\u001b[0m\u001b[0;34m)\u001b[0m\u001b[0;34m\u001b[0m\u001b[0m\n\u001b[0m\u001b[1;32m    481\u001b[0m                 \u001b[0;32mexcept\u001b[0m \u001b[0merror\u001b[0m\u001b[0;34m,\u001b[0m \u001b[0me\u001b[0m\u001b[0;34m:\u001b[0m\u001b[0;34m\u001b[0m\u001b[0m\n\u001b[1;32m    482\u001b[0m                     \u001b[0;32mif\u001b[0m \u001b[0me\u001b[0m\u001b[0;34m.\u001b[0m\u001b[0margs\u001b[0m\u001b[0;34m[\u001b[0m\u001b[0;36m0\u001b[0m\u001b[0;34m]\u001b[0m \u001b[0;34m==\u001b[0m \u001b[0mEINTR\u001b[0m\u001b[0;34m:\u001b[0m\u001b[0;34m\u001b[0m\u001b[0m\n",
      "\u001b[0;32m/Users/sunce/anaconda/lib/python2.7/site-packages/requests/packages/urllib3/contrib/pyopenssl.pyc\u001b[0m in \u001b[0;36mrecv\u001b[0;34m(self, *args, **kwargs)\u001b[0m\n\u001b[1;32m    244\u001b[0m         \u001b[0;32mexcept\u001b[0m \u001b[0mOpenSSL\u001b[0m\u001b[0;34m.\u001b[0m\u001b[0mSSL\u001b[0m\u001b[0;34m.\u001b[0m\u001b[0mWantReadError\u001b[0m\u001b[0;34m:\u001b[0m\u001b[0;34m\u001b[0m\u001b[0m\n\u001b[1;32m    245\u001b[0m             rd, wd, ed = select.select(\n\u001b[0;32m--> 246\u001b[0;31m                 [self.socket], [], [], self.socket.gettimeout())\n\u001b[0m\u001b[1;32m    247\u001b[0m             \u001b[0;32mif\u001b[0m \u001b[0;32mnot\u001b[0m \u001b[0mrd\u001b[0m\u001b[0;34m:\u001b[0m\u001b[0;34m\u001b[0m\u001b[0m\n\u001b[1;32m    248\u001b[0m                 \u001b[0;32mraise\u001b[0m \u001b[0mtimeout\u001b[0m\u001b[0;34m(\u001b[0m\u001b[0;34m'The read operation timed out'\u001b[0m\u001b[0;34m)\u001b[0m\u001b[0;34m\u001b[0m\u001b[0m\n",
      "\u001b[0;31mKeyboardInterrupt\u001b[0m: "
     ]
    }
   ],
   "source": [
    "from tweepy import Stream\n",
    "from tweepy.streaming import StreamListener\n",
    " \n",
    "class MyListener(StreamListener):\n",
    " \n",
    "    def on_data(self, data):\n",
    "        try:\n",
    "            with open('ArtificialIntelligenceTweets.json', 'a') as f:\n",
    "                f.write(data)\n",
    "                return True\n",
    "        except BaseException as e:\n",
    "            print(\"Error on_data: %s\" % str(e))\n",
    "        return True\n",
    " \n",
    "    def on_error(self, status):\n",
    "        print(status)\n",
    "        return True\n",
    " \n",
    "twitter_stream = Stream(auth, MyListener())\n",
    "twitter_stream.filter(track=['ArtificialIntelligence'])"
   ]
  },
  {
   "cell_type": "markdown",
   "metadata": {},
   "source": [
    "Task 3.2: Analizing tweets - Counting terms"
   ]
  },
  {
   "cell_type": "code",
   "execution_count": 3,
   "metadata": {
    "collapsed": false
   },
   "outputs": [
    {
     "name": "stdout",
     "output_type": "stream",
     "text": [
      "RT @NanaBiancaItaly: #Aws #AI workshop LIVE Now in cui il robot \"diventa\" intelligente grazie alle applicazioni di… \n",
      "RT @ProvidensAi: Hey @Ronald_vanLoon that's exactly what our #proptech startup uses. #machinelearning and #ai for home valuations. https://…\n",
      "RT @InvestorIdeas: #Investorideas Reports: #ArtificialIntelligence #Stocks - The Opportunity &amp; #Market $EA,  $GOOGL,  $GOPH, $FB,  $IBM\n",
      "htt…\n",
      "RT @lisabriercliffe: Which deep learning network is best for you? https://t.co/yCXM11QsOQ #machinelearning #ai #artificialintelligence\n",
      "RT @robmccargow: '#ArtificialIntelligence Versus the Worker'\n",
      "by @zarkadakis\n",
      "https://t.co/mtXLM5MENe\n",
      "via @Disruptionhub #AI https://t.co/zOM…\n",
      "RT @InvestorIdeas: #ArtificialIntelligence #Stock @breakingdataco  $BKD.V; $BKDCD Records 436%+ Across #GIVEMESPORT Key ( $FB) Metrics… \n"
     ]
    }
   ],
   "source": [
    "import json  \n",
    "with open('ArtificialIntelligenceTweets.json','r') as json_file:\n",
    "         for line in json_file:\n",
    "             tweet = json.loads(line)\n",
    "             print tweet[\"text\"]\n",
    "            "
   ]
  },
  {
   "cell_type": "code",
   "execution_count": 4,
   "metadata": {
    "collapsed": false
   },
   "outputs": [
    {
     "name": "stdout",
     "output_type": "stream",
     "text": [
      "{\n",
      "    \"contributors\": null, \n",
      "    \"truncated\": false, \n",
      "    \"text\": \"RT @NanaBiancaItaly: #Aws #AI workshop LIVE Now in cui il robot \\\"diventa\\\" intelligente grazie alle applicazioni di\\u2026 \", \n",
      "    \"is_quote_status\": false, \n",
      "    \"in_reply_to_status_id\": null, \n",
      "    \"id\": 862980818377076736, \n",
      "    \"favorite_count\": 0, \n",
      "    \"source\": \"<a href=\\\"http://twitter.com/download/iphone\\\" rel=\\\"nofollow\\\">Twitter for iPhone</a>\", \n",
      "    \"retweeted\": false, \n",
      "    \"coordinates\": null, \n",
      "    \"timestamp_ms\": \"1494585635166\", \n",
      "    \"entities\": {\n",
      "        \"user_mentions\": [\n",
      "            {\n",
      "                \"id\": 708802639, \n",
      "                \"indices\": [\n",
      "                    3, \n",
      "                    19\n",
      "                ], \n",
      "                \"id_str\": \"708802639\", \n",
      "                \"screen_name\": \"NanaBiancaItaly\", \n",
      "                \"name\": \"Nana Bianca\"\n",
      "            }\n",
      "        ], \n",
      "        \"symbols\": [], \n",
      "        \"hashtags\": [\n",
      "            {\n",
      "                \"indices\": [\n",
      "                    21, \n",
      "                    25\n",
      "                ], \n",
      "                \"text\": \"Aws\"\n",
      "            }, \n",
      "            {\n",
      "                \"indices\": [\n",
      "                    26, \n",
      "                    29\n",
      "                ], \n",
      "                \"text\": \"AI\"\n",
      "            }\n",
      "        ], \n",
      "        \"urls\": [\n",
      "            {\n",
      "                \"url\": \"\", \n",
      "                \"indices\": [\n",
      "                    116, \n",
      "                    116\n",
      "                ], \n",
      "                \"expanded_url\": null\n",
      "            }\n",
      "        ]\n",
      "    }, \n",
      "    \"in_reply_to_screen_name\": null, \n",
      "    \"id_str\": \"862980818377076736\", \n",
      "    \"retweet_count\": 0, \n",
      "    \"in_reply_to_user_id\": null, \n",
      "    \"favorited\": false, \n",
      "    \"retweeted_status\": {\n",
      "        \"contributors\": null, \n",
      "        \"truncated\": true, \n",
      "        \"text\": \"#Aws #AI workshop LIVE Now in cui il robot \\\"diventa\\\" intelligente grazie alle applicazioni di\\u2026 https://t.co/iKSODZy6vW\", \n",
      "        \"is_quote_status\": false, \n",
      "        \"in_reply_to_status_id\": null, \n",
      "        \"id\": 862978270731653120, \n",
      "        \"favorite_count\": 1, \n",
      "        \"source\": \"<a href=\\\"http://twitter.com/download/iphone\\\" rel=\\\"nofollow\\\">Twitter for iPhone</a>\", \n",
      "        \"retweeted\": false, \n",
      "        \"coordinates\": null, \n",
      "        \"entities\": {\n",
      "            \"user_mentions\": [], \n",
      "            \"symbols\": [], \n",
      "            \"hashtags\": [\n",
      "                {\n",
      "                    \"indices\": [\n",
      "                        0, \n",
      "                        4\n",
      "                    ], \n",
      "                    \"text\": \"Aws\"\n",
      "                }, \n",
      "                {\n",
      "                    \"indices\": [\n",
      "                        5, \n",
      "                        8\n",
      "                    ], \n",
      "                    \"text\": \"AI\"\n",
      "                }\n",
      "            ], \n",
      "            \"urls\": [\n",
      "                {\n",
      "                    \"url\": \"https://t.co/iKSODZy6vW\", \n",
      "                    \"indices\": [\n",
      "                        95, \n",
      "                        118\n",
      "                    ], \n",
      "                    \"expanded_url\": \"https://twitter.com/i/web/status/862978270731653120\", \n",
      "                    \"display_url\": \"twitter.com/i/web/status/8\\u2026\"\n",
      "                }\n",
      "            ]\n",
      "        }, \n",
      "        \"in_reply_to_screen_name\": null, \n",
      "        \"id_str\": \"862978270731653120\", \n",
      "        \"display_text_range\": [\n",
      "            0, \n",
      "            140\n",
      "        ], \n",
      "        \"retweet_count\": 2, \n",
      "        \"in_reply_to_user_id\": null, \n",
      "        \"favorited\": false, \n",
      "        \"user\": {\n",
      "            \"follow_request_sent\": null, \n",
      "            \"profile_use_background_image\": true, \n",
      "            \"default_profile_image\": false, \n",
      "            \"id\": 708802639, \n",
      "            \"verified\": false, \n",
      "            \"profile_image_url_https\": \"https://pbs.twimg.com/profile_images/2655020606/a3e41a45221adb224ea0b036de98ec06_normal.png\", \n",
      "            \"profile_sidebar_fill_color\": \"DDEEF6\", \n",
      "            \"profile_text_color\": \"333333\", \n",
      "            \"followers_count\": 4240, \n",
      "            \"profile_sidebar_border_color\": \"FFFFFF\", \n",
      "            \"id_str\": \"708802639\", \n",
      "            \"profile_background_color\": \"0B3245\", \n",
      "            \"listed_count\": 207, \n",
      "            \"profile_background_image_url_https\": \"https://pbs.twimg.com/profile_background_images/670691161/cb671112c1cb76dbac0dc664734488ca.png\", \n",
      "            \"utc_offset\": 7200, \n",
      "            \"statuses_count\": 1781, \n",
      "            \"description\": \"Nana Bianca \\u00e8 uno Startup Studio. Uno spazio ad altissima concentrazione tecnologica nel cuore di Firenze.\", \n",
      "            \"friends_count\": 360, \n",
      "            \"location\": \"Italia\", \n",
      "            \"profile_link_color\": \"5E165C\", \n",
      "            \"profile_image_url\": \"http://pbs.twimg.com/profile_images/2655020606/a3e41a45221adb224ea0b036de98ec06_normal.png\", \n",
      "            \"following\": null, \n",
      "            \"geo_enabled\": true, \n",
      "            \"profile_banner_url\": \"https://pbs.twimg.com/profile_banners/708802639/1424693112\", \n",
      "            \"profile_background_image_url\": \"http://pbs.twimg.com/profile_background_images/670691161/cb671112c1cb76dbac0dc664734488ca.png\", \n",
      "            \"name\": \"Nana Bianca\", \n",
      "            \"lang\": \"it\", \n",
      "            \"profile_background_tile\": true, \n",
      "            \"favourites_count\": 1539, \n",
      "            \"screen_name\": \"NanaBiancaItaly\", \n",
      "            \"notifications\": null, \n",
      "            \"url\": \"http://www.nanabianca.it\", \n",
      "            \"created_at\": \"Sat Jul 21 10:59:26 +0000 2012\", \n",
      "            \"contributors_enabled\": false, \n",
      "            \"time_zone\": \"Rome\", \n",
      "            \"protected\": false, \n",
      "            \"default_profile\": false, \n",
      "            \"is_translator\": false\n",
      "        }, \n",
      "        \"geo\": null, \n",
      "        \"in_reply_to_user_id_str\": null, \n",
      "        \"possibly_sensitive\": false, \n",
      "        \"lang\": \"it\", \n",
      "        \"extended_tweet\": {\n",
      "            \"display_text_range\": [\n",
      "                0, \n",
      "                136\n",
      "            ], \n",
      "            \"entities\": {\n",
      "                \"user_mentions\": [], \n",
      "                \"symbols\": [], \n",
      "                \"hashtags\": [\n",
      "                    {\n",
      "                        \"indices\": [\n",
      "                            0, \n",
      "                            4\n",
      "                        ], \n",
      "                        \"text\": \"Aws\"\n",
      "                    }, \n",
      "                    {\n",
      "                        \"indices\": [\n",
      "                            5, \n",
      "                            8\n",
      "                        ], \n",
      "                        \"text\": \"AI\"\n",
      "                    }, \n",
      "                    {\n",
      "                        \"indices\": [\n",
      "                            94, \n",
      "                            117\n",
      "                        ], \n",
      "                        \"text\": \"ArtificialIntelligence\"\n",
      "                    }, \n",
      "                    {\n",
      "                        \"indices\": [\n",
      "                            118, \n",
      "                            122\n",
      "                        ], \n",
      "                        \"text\": \"bot\"\n",
      "                    }, \n",
      "                    {\n",
      "                        \"indices\": [\n",
      "                            123, \n",
      "                            136\n",
      "                        ], \n",
      "                        \"text\": \"nanaworkshop\"\n",
      "                    }\n",
      "                ], \n",
      "                \"urls\": [], \n",
      "                \"media\": [\n",
      "                    {\n",
      "                        \"expanded_url\": \"https://twitter.com/NanaBiancaItaly/status/862978270731653120/photo/1\", \n",
      "                        \"display_url\": \"pic.twitter.com/ViGDSRr78N\", \n",
      "                        \"url\": \"https://t.co/ViGDSRr78N\", \n",
      "                        \"media_url_https\": \"https://pbs.twimg.com/media/C_nqJ-eXkAEUGIx.jpg\", \n",
      "                        \"id_str\": \"862978260728254465\", \n",
      "                        \"sizes\": {\n",
      "                            \"large\": {\n",
      "                                \"h\": 2048, \n",
      "                                \"resize\": \"fit\", \n",
      "                                \"w\": 1709\n",
      "                            }, \n",
      "                            \"small\": {\n",
      "                                \"h\": 680, \n",
      "                                \"resize\": \"fit\", \n",
      "                                \"w\": 567\n",
      "                            }, \n",
      "                            \"medium\": {\n",
      "                                \"h\": 1200, \n",
      "                                \"resize\": \"fit\", \n",
      "                                \"w\": 1001\n",
      "                            }, \n",
      "                            \"thumb\": {\n",
      "                                \"h\": 150, \n",
      "                                \"resize\": \"crop\", \n",
      "                                \"w\": 150\n",
      "                            }\n",
      "                        }, \n",
      "                        \"indices\": [\n",
      "                            137, \n",
      "                            160\n",
      "                        ], \n",
      "                        \"type\": \"photo\", \n",
      "                        \"id\": 862978260728254465, \n",
      "                        \"media_url\": \"http://pbs.twimg.com/media/C_nqJ-eXkAEUGIx.jpg\"\n",
      "                    }\n",
      "                ]\n",
      "            }, \n",
      "            \"extended_entities\": {\n",
      "                \"media\": [\n",
      "                    {\n",
      "                        \"expanded_url\": \"https://twitter.com/NanaBiancaItaly/status/862978270731653120/photo/1\", \n",
      "                        \"display_url\": \"pic.twitter.com/ViGDSRr78N\", \n",
      "                        \"url\": \"https://t.co/ViGDSRr78N\", \n",
      "                        \"media_url_https\": \"https://pbs.twimg.com/media/C_nqJ-eXkAEUGIx.jpg\", \n",
      "                        \"id_str\": \"862978260728254465\", \n",
      "                        \"sizes\": {\n",
      "                            \"large\": {\n",
      "                                \"h\": 2048, \n",
      "                                \"resize\": \"fit\", \n",
      "                                \"w\": 1709\n",
      "                            }, \n",
      "                            \"small\": {\n",
      "                                \"h\": 680, \n",
      "                                \"resize\": \"fit\", \n",
      "                                \"w\": 567\n",
      "                            }, \n",
      "                            \"medium\": {\n",
      "                                \"h\": 1200, \n",
      "                                \"resize\": \"fit\", \n",
      "                                \"w\": 1001\n",
      "                            }, \n",
      "                            \"thumb\": {\n",
      "                                \"h\": 150, \n",
      "                                \"resize\": \"crop\", \n",
      "                                \"w\": 150\n",
      "                            }\n",
      "                        }, \n",
      "                        \"indices\": [\n",
      "                            137, \n",
      "                            160\n",
      "                        ], \n",
      "                        \"type\": \"photo\", \n",
      "                        \"id\": 862978260728254465, \n",
      "                        \"media_url\": \"http://pbs.twimg.com/media/C_nqJ-eXkAEUGIx.jpg\"\n",
      "                    }\n",
      "                ]\n",
      "            }, \n",
      "            \"full_text\": \"#Aws #AI workshop LIVE Now in cui il robot \\\"diventa\\\" intelligente grazie alle applicazioni di #ArtificialIntelligence #bot #nanaworkshop https://t.co/ViGDSRr78N\"\n",
      "        }, \n",
      "        \"created_at\": \"Fri May 12 10:30:27 +0000 2017\", \n",
      "        \"filter_level\": \"low\", \n",
      "        \"in_reply_to_status_id_str\": null, \n",
      "        \"place\": null\n",
      "    }, \n",
      "    \"user\": {\n",
      "        \"follow_request_sent\": null, \n",
      "        \"profile_use_background_image\": false, \n",
      "        \"default_profile_image\": false, \n",
      "        \"id\": 1157214942, \n",
      "        \"verified\": false, \n",
      "        \"profile_image_url_https\": \"https://pbs.twimg.com/profile_images/829628720935731200/CKdqm8gq_normal.jpg\", \n",
      "        \"profile_sidebar_fill_color\": \"A79A81\", \n",
      "        \"profile_text_color\": \"FB346F\", \n",
      "        \"followers_count\": 600, \n",
      "        \"profile_sidebar_border_color\": \"FFFFFF\", \n",
      "        \"id_str\": \"1157214942\", \n",
      "        \"profile_background_color\": \"160211\", \n",
      "        \"listed_count\": 39, \n",
      "        \"profile_background_image_url_https\": \"https://pbs.twimg.com/profile_background_images/378800000159550666/VbVN1Vci.jpeg\", \n",
      "        \"utc_offset\": 7200, \n",
      "        \"statuses_count\": 1178, \n",
      "        \"description\": \"Agenzia di comunicazione digitale con base a Firenze. Influencer Marketing. Social Media. Branding. Web design. \\ud83d\\udca1Join our #socialmedia revolution!\", \n",
      "        \"friends_count\": 1555, \n",
      "        \"location\": \"Firenze\", \n",
      "        \"profile_link_color\": \"310C19\", \n",
      "        \"profile_image_url\": \"http://pbs.twimg.com/profile_images/829628720935731200/CKdqm8gq_normal.jpg\", \n",
      "        \"following\": null, \n",
      "        \"geo_enabled\": true, \n",
      "        \"profile_banner_url\": \"https://pbs.twimg.com/profile_banners/1157214942/1487869205\", \n",
      "        \"profile_background_image_url\": \"http://pbs.twimg.com/profile_background_images/378800000159550666/VbVN1Vci.jpeg\", \n",
      "        \"name\": \"Press Me\", \n",
      "        \"lang\": \"it\", \n",
      "        \"profile_background_tile\": true, \n",
      "        \"favourites_count\": 1165, \n",
      "        \"screen_name\": \"pressmetweet\", \n",
      "        \"notifications\": null, \n",
      "        \"url\": \"http://www.pressme.it\", \n",
      "        \"created_at\": \"Thu Feb 07 14:03:50 +0000 2013\", \n",
      "        \"contributors_enabled\": false, \n",
      "        \"time_zone\": \"Amsterdam\", \n",
      "        \"protected\": false, \n",
      "        \"default_profile\": false, \n",
      "        \"is_translator\": false\n",
      "    }, \n",
      "    \"geo\": null, \n",
      "    \"in_reply_to_user_id_str\": null, \n",
      "    \"lang\": \"it\", \n",
      "    \"created_at\": \"Fri May 12 10:40:35 +0000 2017\", \n",
      "    \"filter_level\": \"low\", \n",
      "    \"in_reply_to_status_id_str\": null, \n",
      "    \"place\": null\n",
      "}\n"
     ]
    }
   ],
   "source": [
    "import json\n",
    " \n",
    "with open('ArtificialIntelligenceTweets.json', 'r') as f:\n",
    "    line = f.readline() \n",
    "    tweet = json.loads(line) \n",
    "    print(json.dumps(tweet, indent=4)) "
   ]
  },
  {
   "cell_type": "code",
   "execution_count": 7,
   "metadata": {
    "collapsed": false
   },
   "outputs": [
    {
     "name": "stdout",
     "output_type": "stream",
     "text": [
      "[u'RT', u'@NanaBiancaItaly', u':', u'#Aws', u'#AI', u'workshop', u'LIVE', u'Now', u'in', u'cui', u'il', u'robot', u'\"', u'diventa', u'\"', u'intelligente', u'grazie', u'alle', u'applicazioni', u'di', u'\\u2026']\n",
      "[u'RT', u'@ProvidensAi', u':', u'Hey', u'@Ronald_vanLoon', u\"that's\", u'exactly', u'what', u'our', u'#proptech', u'startup', u'uses', u'.', u'#machinelearning', u'and', u'#ai', u'for', u'home', u'valuations', u'.', u'https', u':/', u'/', u'\\u2026']\n",
      "[u'RT', u'@InvestorIdeas', u':', u'#Investorideas', u'Reports', u':', u'#ArtificialIntelligence', u'#Stocks', u'-', u'The', u'Opportunity', u'&', u'amp', u';', u'#Market', u'$', u'EA', u',', u'$', u'GOOGL', u',', u'$', u'GOPH', u',', u'$', u'FB', u',', u'$', u'IBM', u'htt', u'\\u2026']\n",
      "[u'RT', u'@lisabriercliffe', u':', u'Which', u'deep', u'learning', u'network', u'is', u'best', u'for', u'you', u'?', u'https://t.co/yCXM11QsOQ', u'#machinelearning', u'#ai', u'#artificialintelligence']\n",
      "[u'RT', u'@robmccargow', u':', u\"'\", u'#ArtificialIntelligence', u'Versus', u'the', u'Worker', u\"'\", u'by', u'@zarkadakis', u'https://t.co/mtXLM5MENe', u'via', u'@Disruptionhub', u'#AI', u'https://t.co/zOM', u'\\u2026']\n",
      "[u'RT', u'@InvestorIdeas', u':', u'#ArtificialIntelligence', u'#Stock', u'@breakingdataco', u'$', u'BKD', u'.', u'V', u';', u'$', u'BKDCD', u'Records', u'436', u'%', u'+', u'Across', u'#GIVEMESPORT', u'Key', u'(', u'$', u'FB', u')', u'Metrics', u'\\u2026']\n"
     ]
    }
   ],
   "source": [
    "import re\n",
    " \n",
    "emoticons_str = r\"\"\"\n",
    "    (?:\n",
    "        [:=;] # Eyes\n",
    "        [oO\\-]? # Nose (optional)\n",
    "        [D\\)\\]\\(\\]/\\\\OpP] # Mouth\n",
    "    )\"\"\"\n",
    " \n",
    "regex_str = [\n",
    "    emoticons_str,\n",
    "    r'<[^>]+>', # HTML tags\n",
    "    r'(?:@[\\w_]+)', # @-mentions\n",
    "    r\"(?:\\#+[\\w_]+[\\w\\'_\\-]*[\\w_]+)\", # hash-tags\n",
    "    r'http[s]?://(?:[a-z]|[0-9]|[$-_@.&+]|[!*\\(\\),]|(?:%[0-9a-f][0-9a-f]))+', # URLs\n",
    " \n",
    "    r'(?:(?:\\d+,?)+(?:\\.?\\d+)?)', # numbers\n",
    "    r\"(?:[a-z][a-z'\\-_]+[a-z])\", # words with - and '\n",
    "    r'(?:[\\w_]+)', # other words\n",
    "    r'(?:\\S)' # anything else\n",
    "]\n",
    "    \n",
    "tokens_re = re.compile(r'('+'|'.join(regex_str)+')', re.VERBOSE | re.IGNORECASE)\n",
    "emoticon_re = re.compile(r'^'+emoticons_str+'$', re.VERBOSE | re.IGNORECASE)\n",
    " \n",
    "def tokenize(s):\n",
    "    return tokens_re.findall(s)\n",
    " \n",
    "def preprocess(s, lowercase=False):\n",
    "    tokens = tokenize(s)\n",
    "    if lowercase:\n",
    "        tokens = [token if emoticon_re.search(token) else token.lower() for token in tokens]\n",
    "    return tokens\n",
    "\n",
    "with open('ArtificialIntelligenceTweets.json', 'r') as f:\n",
    "#import io\n",
    "#f=io.open('data/stream_barcelona.json', 'r', encoding='utf8' )\n",
    "\n",
    "     for line in f:\n",
    "        tweet = json.loads(line)\n",
    "        tokens = preprocess(tweet['text'])\n",
    "        print(tokens)"
   ]
  },
  {
   "cell_type": "code",
   "execution_count": 8,
   "metadata": {
    "collapsed": false
   },
   "outputs": [
    {
     "name": "stdout",
     "output_type": "stream",
     "text": [
      "[(u'$', 8), (u':', 7), (u'RT', 6), (u'\\u2026', 5), (u',', 4)]\n"
     ]
    }
   ],
   "source": [
    "import operator \n",
    "import json\n",
    "from collections import Counter\n",
    "\n",
    "fname = 'ArtificialIntelligenceTweets.json'\n",
    "with open(fname, 'r') as f:\n",
    "   count_all = Counter()\n",
    "   for line in f:\n",
    "       tweet = json.loads(line)\n",
    "       # Create a list with all the terms\n",
    "       terms_all = [term for term in preprocess(tweet['text'])]\n",
    "       # Update the counter\n",
    "       count_all.update(terms_all)\n",
    "   print(count_all.most_common(5))\n"
   ]
  },
  {
   "cell_type": "code",
   "execution_count": 11,
   "metadata": {
    "collapsed": false
   },
   "outputs": [
    {
     "name": "stdout",
     "output_type": "stream",
     "text": [
      "[nltk_data] Downloading package stopwords to /Users/sunce/nltk_data...\n",
      "[nltk_data]   Package stopwords is already up-to-date!\n"
     ]
    }
   ],
   "source": [
    "import nltk\n",
    "from nltk.corpus import stopwords\n",
    "nltk.download(\"stopwords\") # download the stopword corpus on our computer\n",
    "import string\n",
    " \n",
    "punctuation = list(string.punctuation)\n",
    "stop = stopwords.words('english') + punctuation + ['rt', 'via', 'RT']\n",
    "from collections import Counter\n"
   ]
  },
  {
   "cell_type": "code",
   "execution_count": 12,
   "metadata": {
    "collapsed": false
   },
   "outputs": [
    {
     "name": "stdout",
     "output_type": "stream",
     "text": [
      "… : 5\n",
      "#ArtificialIntelligence : 3\n",
      "@InvestorIdeas : 2\n",
      "#ai : 2\n",
      "FB : 2\n"
     ]
    }
   ],
   "source": [
    "import operator \n",
    "import json\n",
    "from collections import Counter\n",
    " \n",
    "fname = 'ArtificialIntelligenceTweets.json'\n",
    "with open(fname, 'r') as f:\n",
    "    count_all = Counter()\n",
    "    for line in f:\n",
    "        tweet = json.loads(line)\n",
    "        # Create a list with all the terms\n",
    "        terms_stop = [term for term in preprocess(tweet['text']) if term not in stop]\n",
    "        count_all.update(terms_stop)\n",
    "    for word, index in count_all.most_common(5):\n",
    "        print '%s : %s' % (word, index)"
   ]
  },
  {
   "cell_type": "code",
   "execution_count": 14,
   "metadata": {
    "collapsed": false
   },
   "outputs": [
    {
     "name": "stdout",
     "output_type": "stream",
     "text": [
      "#ArtificialIntelligence : 3\n",
      "#AI : 2\n",
      "#ai : 2\n",
      "#machinelearning : 2\n",
      "#GIVEMESPORT : 1\n"
     ]
    }
   ],
   "source": [
    "import operator \n",
    "import json\n",
    "from collections import Counter\n",
    " \n",
    "fname = 'ArtificialIntelligenceTweets.json'\n",
    "with open(fname, 'r') as f:\n",
    "    count_all = Counter()\n",
    "    for line in f:\n",
    "        tweet = json.loads(line)\n",
    "        # Create a list with all the terms\n",
    "        terms_stop = [term for term in preprocess(tweet['text']) if term not in stop]\n",
    "        terms_hash = [term for term in preprocess(tweet['text']) \n",
    "              if term.startswith('#')]\n",
    "        count_all.update(terms_hash)\n",
    "    for word, index in count_all.most_common(5):\n",
    "        print '%s : %s' % (word, index)\n"
   ]
  },
  {
   "cell_type": "code",
   "execution_count": 15,
   "metadata": {
    "collapsed": false
   },
   "outputs": [
    {
     "name": "stdout",
     "output_type": "stream",
     "text": [
      "#ArtificialIntelligence : 6\n",
      "#GIVEMESPORT : 6\n",
      "#Stock : 6\n"
     ]
    }
   ],
   "source": [
    "import operator \n",
    "import json\n",
    "from collections import Counter\n",
    " \n",
    "fname = 'ArtificialIntelligenceTweets.json'\n",
    "with open(fname, 'r') as f:\n",
    "    count_all = Counter()\n",
    "    for line in f:\n",
    "        tweet = json.loads(line)\n",
    "        # Create a list with all the terms\n",
    "        terms_only = [term for term in preprocess(tweet['text']) \n",
    "              if term not in stop and\n",
    "              not term.startswith(('#', '@'))] \n",
    "        count_all.update(terms_hash)\n",
    "    for word, index in count_all.most_common(5):\n",
    "        print '%s : %s' % (word, index)\n"
   ]
  },
  {
   "cell_type": "markdown",
   "metadata": {},
   "source": [
    "### Task 3.3: Case study"
   ]
  },
  {
   "cell_type": "code",
   "execution_count": 16,
   "metadata": {
    "collapsed": false
   },
   "outputs": [
    {
     "name": "stdout",
     "output_type": "stream",
     "text": [
      "[(u'#Barcelona', 68), (u'#Messi', 30), (u'#FCBLive', 17), (u'#UDLasPalmas', 13), (u'#VamosUD', 13), (u'#barcelona', 10), (u'#CopaDelRey', 8), (u'#empleo', 6), (u'#BCN', 6), (u'#riesgoimpago', 6), (u'#news', 5), (u'#LaLiga', 5), (u'#SportsCenter', 4), (u'#LionelMessi', 4), (u'#Informe', 4)]\n"
     ]
    }
   ],
   "source": [
    "import operator \n",
    "import json\n",
    "from collections import Counter\n",
    " \n",
    "fname = 'Lab3.CaseStudy.json'\n",
    "with open(fname, 'r') as f:\n",
    "    count_all = Counter()\n",
    "    for line in f:\n",
    "        tweet = json.loads(line)\n",
    "        # Create a list with all the terms\n",
    "        terms_hash = [term for term in preprocess(tweet['text']) if term.startswith('#') and term not in stop]        \n",
    "        count_all.update(terms_hash)\n",
    "# Print the first 10 most frequent words\n",
    "print(count_all.most_common(15))"
   ]
  },
  {
   "cell_type": "code",
   "execution_count": 19,
   "metadata": {
    "collapsed": false
   },
   "outputs": [
    {
     "data": {
      "image/png": "[encoded data removed]",
      "text/plain": [
       "<matplotlib.figure.Figure at 0x116d946d0>"
      ]
     },
     "metadata": {},
     "output_type": "display_data"
    }
   ],
   "source": [
    "%matplotlib inline\n",
    "import matplotlib as mpl\n",
    "mpl.rcParams['figure.figsize'] = (15,10)\n",
    "import matplotlib.pyplot as plt\n",
    "\n",
    "sorted_x, sorted_y = zip(*count_all.most_common(15))\n",
    "#print(sorted_x, sorted_y)\n",
    "\n",
    "plt.bar(range(len(sorted_x)), sorted_y, width=0.75, align='center');\n",
    "plt.xticks(range(len(sorted_x)), sorted_x, rotation=80);\n",
    "plt.axis('tight'); "
   ]
  },
  {
   "cell_type": "markdown",
   "metadata": {},
   "source": [
    "### Task 3.4: Student proposal"
   ]
  },
  {
   "cell_type": "code",
   "execution_count": null,
   "metadata": {
    "collapsed": true
   },
   "outputs": [],
   "source": []
  }
 ],
 "metadata": {
  "kernelspec": {
   "display_name": "Python 2",
   "language": "python",
   "name": "python2"
  },
  "language_info": {
   "codemirror_mode": {
    "name": "ipython",
    "version": 2
   },
   "file_extension": ".py",
   "mimetype": "text/x-python",
   "name": "python",
   "nbconvert_exporter": "python",
   "pygments_lexer": "ipython2",
   "version": "2.7.13"
  }
 },
 "nbformat": 4,
 "nbformat_minor": 2
}
